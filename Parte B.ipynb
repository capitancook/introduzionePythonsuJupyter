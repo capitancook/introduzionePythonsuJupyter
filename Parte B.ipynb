{
 "cells": [
  {
   "cell_type": "markdown",
   "source": [
    "# Modelliamo dati complessi\r\n",
    "\r\n",
    "Quando dobbiamo memorizzare dati un po' più complessi dei nomi di un bene o i prezzi ed altro dato elementare dobbiamo usare dei tipi di variabili un po' più complesse di Python.\r\n",
    "## Gli oggetti\r\n",
    "## Gli attributi\r\n",
    "Ad esempio se voglio modellare alcuni cagnolini provenienti da diverse parti del mondo ad un certo livello (basso) di astrazione possiamo dire che il generico cagnolino è rappresentabile con un certo numero di attributi:\r\n",
    "- Il suo nome;\r\n",
    "- Il suo sesso;\r\n",
    "- la sua nazionalità;\r\n",
    "- La sua età;\r\n",
    "- Il verso che emette;\r\n",
    "Come facciamo a scrivere questo modello in Python?\r\n",
    "Ma con gli oggetti! Che domande.\r\n",
    "\r\n",
    "In Python possiamo creare una variabile che appartiene ad una classe di oggetti che possiamo definire noi."
   ],
   "metadata": {}
  },
  {
   "cell_type": "code",
   "execution_count": null,
   "source": [
    "class Dog:\r\n",
    "    def __init__(self, nome, sesso, eta, nazionalita, verso):\r\n",
    "        self.nome        = nome\r\n",
    "        self.sesso       = sesso\r\n",
    "        self.eta         = eta\r\n",
    "        self.nazionalita = nazionalita\r\n",
    "        self.verso       = verso"
   ],
   "outputs": [],
   "metadata": {}
  },
  {
   "cell_type": "markdown",
   "source": [
    "Possiamo creare il primo cagnolino, ad esempio Italiano:"
   ],
   "metadata": {}
  },
  {
   "cell_type": "code",
   "execution_count": null,
   "source": [
    "cremino = Dog( \"Cremino\", \"maschio\", 17, \"Italia\", \"Bau, bau!\")"
   ],
   "outputs": [],
   "metadata": {}
  },
  {
   "cell_type": "markdown",
   "source": [
    "Poi un cagnolino Giapponese:"
   ],
   "metadata": {}
  },
  {
   "cell_type": "code",
   "execution_count": null,
   "source": [
    "bungo = Dog( \"Bungo\", \"maschio\", 17, \"Giappone\", \"Wan, wan!\")"
   ],
   "outputs": [],
   "metadata": {}
  },
  {
   "cell_type": "markdown",
   "source": [
    "E uno Tedesco"
   ],
   "metadata": {}
  },
  {
   "cell_type": "code",
   "execution_count": null,
   "source": [
    "fritz = Dog( \"Fritz\", \"maschio\", 12, \"Germania\", \"wuff, wuff!\")"
   ],
   "outputs": [],
   "metadata": {}
  },
  {
   "cell_type": "markdown",
   "source": [
    "Possiamo vedere il contenuto degli attributi molto facilmente:"
   ],
   "metadata": {}
  },
  {
   "cell_type": "code",
   "execution_count": null,
   "source": [
    "print(fritz.nome)\r\n",
    "print(fritz.sesso)\r\n",
    "print(fritz.eta)\r\n",
    "print(fritz.nazionalita)\r\n",
    "descrizione = f\"Mi chiamo {fritz.nome}, sono un cane {fritz.sesso} di {fritz.eta} anni e vengo da {fritz.nazionalita}\"\r\n",
    "print(descrizione)"
   ],
   "outputs": [],
   "metadata": {}
  },
  {
   "cell_type": "markdown",
   "source": [
    "Ma se vogliamo modellare anche il comportamento dei cagnolini?\r\n",
    "Ad esempio, come potremmo modellare il saluto dei cagnolini?\r\n",
    "Che entrino i \"metodi\" degli oggetti in python!\r\n",
    "## I metodi\r\n",
    "\r\n",
    "Possiamo modellare il comportamento degli oggetti reali usando i metodi delle classi di Python.\r\n",
    "I metodi possono essere pensati come le azioni che possono fare gli oggetti.\r\n",
    "Vediamo come si scrivono in Python.\r\n",
    "Proviamo a scrivere il metodo che consente ai cagnolini di salutare.\r\n"
   ],
   "metadata": {}
  },
  {
   "cell_type": "code",
   "execution_count": null,
   "source": [
    "    \r\n",
    "class Dog:\r\n",
    "    def __init__(self, nome, sesso, eta, nazionalita, verso):\r\n",
    "        self.nome        = nome\r\n",
    "        self.sesso       = sesso\r\n",
    "        self.eta         = eta\r\n",
    "        self.nazionalita = nazionalita\r\n",
    "        self.verso       = verso# Instance method\r\n",
    "    def abbaia(self):\r\n",
    "        print(self.verso)\r\n"
   ],
   "outputs": [],
   "metadata": {}
  },
  {
   "cell_type": "markdown",
   "source": [
    "Per usare la nuov classe cane dobbiamo ricreare i cagnolini:\r\n"
   ],
   "metadata": {}
  },
  {
   "cell_type": "code",
   "execution_count": null,
   "source": [
    "cremino = Dog( \"Cremino\", \"maschio\", 17, \"Italia\", \"Bau, bau!\")\r\n",
    "bungo   = Dog( \"Bungo\", \"maschio\", 17, \"Giappone\", \"Wan, wan!\")\r\n",
    "fritz   = Dog( \"Fritz\", \"maschio\", 12, \"Germania\", \"wuff, wuff!\")\r\n"
   ],
   "outputs": [],
   "metadata": {}
  },
  {
   "cell_type": "markdown",
   "source": [
    "Vediamo come abbaia un cane Italiano:"
   ],
   "metadata": {}
  },
  {
   "cell_type": "code",
   "execution_count": null,
   "source": [
    "cremino.abbaia()"
   ],
   "outputs": [],
   "metadata": {}
  },
  {
   "cell_type": "markdown",
   "source": [
    "Uno Giapponese"
   ],
   "metadata": {}
  },
  {
   "cell_type": "code",
   "execution_count": null,
   "source": [
    "bungo.abbaia()"
   ],
   "outputs": [],
   "metadata": {}
  },
  {
   "cell_type": "markdown",
   "source": [
    "Infine, vediamo il cane Tedesco:"
   ],
   "metadata": {}
  },
  {
   "cell_type": "code",
   "execution_count": 22,
   "source": [
    "fritz.abbaia()"
   ],
   "outputs": [
    {
     "output_type": "stream",
     "name": "stdout",
     "text": [
      "wuff, wuff!\n"
     ]
    }
   ],
   "metadata": {}
  }
 ],
 "metadata": {
  "orig_nbformat": 4,
  "language_info": {
   "name": "python",
   "version": "3.9.5",
   "mimetype": "text/x-python",
   "codemirror_mode": {
    "name": "ipython",
    "version": 3
   },
   "pygments_lexer": "ipython3",
   "nbconvert_exporter": "python",
   "file_extension": ".py"
  },
  "kernelspec": {
   "name": "python3",
   "display_name": "Python 3.9.5 64-bit"
  },
  "interpreter": {
   "hash": "63fd5069d213b44bf678585dea6b12cceca9941eaf7f819626cde1f2670de90d"
  }
 },
 "nbformat": 4,
 "nbformat_minor": 2
}