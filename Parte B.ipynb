{
 "cells": [
  {
   "cell_type": "markdown",
   "metadata": {},
   "source": [
    "# Modelliamo dati complessi\n",
    "\n",
    "Quando dobbiamo memorizzare dati un po' più complessi dei nomi di un bene o i prezzi ed altro dato elementare dobbiamo usare dei tipi di variabili un po' più complesse di Python.\n",
    "## Gli oggetti\n",
    "## Gli attributi\n",
    "Ad esempio se voglio modellare alcuni cagnolini provenienti da diverse parti del mondo ad un certo livello (basso) di astrazione possiamo dire che il generico cagnolino è rappresentabile con un certo numero di attributi:\n",
    "- Il suo nome;\n",
    "- Il suo sesso;\n",
    "- la sua nazionalità;\n",
    "- La sua età;\n",
    "- Il verso che emette;\n",
    "Come facciamo a scrivere questo modello in Python?\n",
    "Ma con gli oggetti! Che domande.\n",
    "\n",
    "In Python possiamo creare una variabile che appartiene ad una classe di oggetti che possiamo definire noi."
   ]
  },
  {
   "cell_type": "code",
   "execution_count": 10,
   "metadata": {},
   "outputs": [],
   "source": [
    "class Dog:\n",
    "    def __init__(self, nome, sesso, eta, nazionalita, verso):\n",
    "        self.nome        = nome\n",
    "        self.sesso       = sesso\n",
    "        self.eta         = eta\n",
    "        self.nazionalita = nazionalita\n",
    "        self.verso       = verso"
   ]
  },
  {
   "cell_type": "markdown",
   "metadata": {},
   "source": [
    "Possiamo creare il primo cagnolino, ad esempio Italiano:"
   ]
  },
  {
   "cell_type": "code",
   "execution_count": 11,
   "metadata": {},
   "outputs": [],
   "source": [
    "mimmo = Dog( \"Mimmo\", \"maschio\", 17, \"Italia\", \"Bau, bau!\")"
   ]
  },
  {
   "cell_type": "markdown",
   "metadata": {},
   "source": [
    "Poi un cagnolino Giapponese:"
   ]
  },
  {
   "cell_type": "code",
   "execution_count": 12,
   "metadata": {},
   "outputs": [],
   "source": [
    "hana = Dog( \"Hana\", \"femmina\", 17, \"Giappone\", \"Wan, wan!\")"
   ]
  },
  {
   "cell_type": "markdown",
   "metadata": {},
   "source": [
    "E uno Tedesco"
   ]
  },
  {
   "cell_type": "code",
   "execution_count": 13,
   "metadata": {},
   "outputs": [],
   "source": [
    "ada = Dog( \"Ada\", \"femmina\", 12, \"Germania\", \"wuff, wuff!\")"
   ]
  },
  {
   "cell_type": "markdown",
   "metadata": {},
   "source": [
    "Possiamo vedere il contenuto degli attributi molto facilmente:"
   ]
  },
  {
   "cell_type": "code",
   "execution_count": 14,
   "metadata": {},
   "outputs": [
    {
     "name": "stdout",
     "output_type": "stream",
     "text": [
      "Ada\n",
      "femmina\n",
      "12\n",
      "Germania\n",
      "Mi chiamo Ada, sono un cane femmina di 12 anni e vengo da Germania\n"
     ]
    }
   ],
   "source": [
    "print(ada.nome)\n",
    "print(ada.sesso)\n",
    "print(ada.eta)\n",
    "print(ada.nazionalita)\n",
    "descrizione = f\"Mi chiamo {ada.nome}, sono un cane {ada.sesso} di {ada.eta} anni e vengo da {ada.nazionalita}\"\n",
    "print(descrizione)"
   ]
  },
  {
   "cell_type": "markdown",
   "metadata": {},
   "source": [
    "Ma se vogliamo modellare anche il comportamento dei cagnolini?\n",
    "Ad esempio, come potremmo modellare il saluto dei cagnolini?\n",
    "Che entrino i \"metodi\" degli oggetti in python!\n",
    "## I metodi\n",
    "\n",
    "Possiamo modellare il comportamento degli oggetti reali usando i metodi delle classi di Python.\n",
    "I metodi possono essere pensati come le azioni che possono fare gli oggetti.\n",
    "Vediamo come si scrivono in Python.\n",
    "Proviamo a scrivere il metodo che consente ai cagnolini di salutare.\n"
   ]
  },
  {
   "cell_type": "code",
   "execution_count": 15,
   "metadata": {},
   "outputs": [],
   "source": [
    "    \n",
    "class Dog:\n",
    "    def __init__(self, nome, sesso, eta, nazionalita, verso):\n",
    "        self.nome        = nome\n",
    "        self.sesso       = sesso\n",
    "        self.eta         = eta\n",
    "        self.nazionalita = nazionalita\n",
    "        self.verso       = verso\n",
    "    def abbaia(self):\n",
    "        print(self.verso)\n"
   ]
  },
  {
   "cell_type": "markdown",
   "metadata": {},
   "source": [
    "Per usare la nuova classe cane dobbiamo ricreare i cagnolini:\n"
   ]
  },
  {
   "cell_type": "code",
   "execution_count": 16,
   "metadata": {},
   "outputs": [],
   "source": [
    "mimmo = Dog( \"Mimmo\", \"maschio\", 17, \"Italia\", \"Bau, bau!\")\n",
    "hana   = Dog( \"Hana\", \"femmina\", 17, \"Giappone\", \"Wan, wan!\")\n",
    "ada   = Dog( \"Ada\", \"femmina\", 12, \"Germania\", \"wuff, wuff!\")\n"
   ]
  },
  {
   "cell_type": "markdown",
   "metadata": {},
   "source": [
    "Vediamo come abbaia un cane Italiano:"
   ]
  },
  {
   "cell_type": "code",
   "execution_count": 17,
   "metadata": {},
   "outputs": [
    {
     "name": "stdout",
     "output_type": "stream",
     "text": [
      "Bau, bau!\n"
     ]
    }
   ],
   "source": [
    "mimmo.abbaia()"
   ]
  },
  {
   "cell_type": "markdown",
   "metadata": {},
   "source": [
    "Una Giapponese"
   ]
  },
  {
   "cell_type": "code",
   "execution_count": 18,
   "metadata": {},
   "outputs": [
    {
     "name": "stdout",
     "output_type": "stream",
     "text": [
      "Wan, wan!\n"
     ]
    }
   ],
   "source": [
    "hana.abbaia()"
   ]
  },
  {
   "cell_type": "markdown",
   "metadata": {},
   "source": [
    "Infine, vediamo la cagnolina Tedesca :"
   ]
  },
  {
   "cell_type": "code",
   "execution_count": 19,
   "metadata": {},
   "outputs": [
    {
     "name": "stdout",
     "output_type": "stream",
     "text": [
      "wuff, wuff!\n"
     ]
    }
   ],
   "source": [
    "ada.abbaia()"
   ]
  },
  {
   "cell_type": "markdown",
   "metadata": {},
   "source": [
    "Possiamo anche creare un metodo perché il generico cagnolino si possa presentare all'universo mondo:"
   ]
  },
  {
   "cell_type": "code",
   "execution_count": 1,
   "metadata": {},
   "outputs": [],
   "source": [
    "class Dog:\n",
    "    def __init__(self, nome, sesso, eta, nazionalita, verso):\n",
    "        self.nome        = nome\n",
    "        self.sesso       = sesso\n",
    "        self.eta         = eta\n",
    "        self.nazionalita = nazionalita\n",
    "        self.verso       = verso\n",
    "    def abbaia(self):\n",
    "        print(self.verso)\n",
    "    def descriviTeStesso(self):\n",
    "        print(\"Mi chiamo \", self.nome,\", sono un cane \", self.sesso, \" di \", self.eta, \" anni e la mia nazione di origine è \", self.nazionalita, \". Il mio verso è \", self.verso)"
   ]
  },
  {
   "cell_type": "markdown",
   "metadata": {},
   "source": [
    "Creiamo nuovamente i tre oggetti:"
   ]
  },
  {
   "cell_type": "code",
   "execution_count": 2,
   "metadata": {},
   "outputs": [],
   "source": [
    "mimmo = Dog( \"Mimmo\", \"maschio\", 17, \"Italia\", \"Bau, bau!\")\n",
    "hana   = Dog( \"Hana\", \"femmina\", 17, \"Giappone\", \"Wan, wan!\")\n",
    "ada   = Dog( \"Ada\", \"femmina\", 12, \"Germania\", \"wuff, wuff!\")\n"
   ]
  },
  {
   "cell_type": "markdown",
   "metadata": {},
   "source": [
    "Vediamo come si presenta al mondo la cagnolina Giapponese:"
   ]
  },
  {
   "cell_type": "code",
   "execution_count": 3,
   "metadata": {},
   "outputs": [
    {
     "name": "stdout",
     "output_type": "stream",
     "text": [
      "Mi chiamo  Hana , sono un cane  femmina  di  17  anni e la mia nazione di origine è  Giappone . Il mio verso è  Wan, wan!\n"
     ]
    }
   ],
   "source": [
    "hana.descriviTeStesso()"
   ]
  },
  {
   "cell_type": "code",
   "execution_count": 13,
   "metadata": {},
   "outputs": [
    {
     "name": "stdout",
     "output_type": "stream",
     "text": [
      "^C\n"
     ]
    }
   ],
   "source": [
    "!pip install -q jmd_imagescraper\n"
   ]
  },
  {
   "cell_type": "code",
   "execution_count": 23,
   "metadata": {},
   "outputs": [],
   "source": [
    "from jmd_imagescraper.core import * \n",
    "from pathlib import Path\n",
    "from jmd_imagescraper.imagecleaner import *\n"
   ]
  },
  {
   "cell_type": "code",
   "execution_count": 20,
   "metadata": {},
   "outputs": [
    {
     "name": "stdout",
     "output_type": "stream",
     "text": [
      "Duckduckgo search: cats\n",
      "Downloading results into c:\\Users\\lcapitanio\\Google Drive\\Didattica\\LUISS\\LABGP3 - INTELLIGENZA ARTIFICIALE - ARTIFICIAL INTELLIGENCE\\0 Introduzione a Python\\animals\\cat\n"
     ]
    },
    {
     "data": {
      "text/html": [
       "\n",
       "<style>\n",
       "    /* Turns off some styling */\n",
       "    progress {\n",
       "        /* gets rid of default border in Firefox and Opera. */\n",
       "        border: none;\n",
       "        /* Needs to be in here for Safari polyfill so background images work as expected. */\n",
       "        background-size: auto;\n",
       "    }\n",
       "    progress:not([value]), progress:not([value])::-webkit-progress-bar {\n",
       "        background: repeating-linear-gradient(45deg, #7e7e7e, #7e7e7e 10px, #5c5c5c 10px, #5c5c5c 20px);\n",
       "    }\n",
       "    .progress-bar-interrupted, .progress-bar-interrupted::-webkit-progress-bar {\n",
       "        background: #F44336;\n",
       "    }\n",
       "</style>\n"
      ],
      "text/plain": [
       "<IPython.core.display.HTML object>"
      ]
     },
     "metadata": {},
     "output_type": "display_data"
    },
    {
     "data": {
      "text/html": [
       "\n",
       "    <div>\n",
       "      <progress value='10' class='' max='10' style='width:300px; height:20px; vertical-align: middle;'></progress>\n",
       "      100.00% [10/10 00:01&lt;00:00 Images downloaded]\n",
       "    </div>\n",
       "    "
      ],
      "text/plain": [
       "<IPython.core.display.HTML object>"
      ]
     },
     "metadata": {},
     "output_type": "display_data"
    },
    {
     "name": "stdout",
     "output_type": "stream",
     "text": [
      "Duckduckgo search: dogs\n",
      "Downloading results into c:\\Users\\lcapitanio\\Google Drive\\Didattica\\LUISS\\LABGP3 - INTELLIGENZA ARTIFICIALE - ARTIFICIAL INTELLIGENCE\\0 Introduzione a Python\\animals\\dog\n"
     ]
    },
    {
     "data": {
      "text/html": [
       "\n",
       "<style>\n",
       "    /* Turns off some styling */\n",
       "    progress {\n",
       "        /* gets rid of default border in Firefox and Opera. */\n",
       "        border: none;\n",
       "        /* Needs to be in here for Safari polyfill so background images work as expected. */\n",
       "        background-size: auto;\n",
       "    }\n",
       "    progress:not([value]), progress:not([value])::-webkit-progress-bar {\n",
       "        background: repeating-linear-gradient(45deg, #7e7e7e, #7e7e7e 10px, #5c5c5c 10px, #5c5c5c 20px);\n",
       "    }\n",
       "    .progress-bar-interrupted, .progress-bar-interrupted::-webkit-progress-bar {\n",
       "        background: #F44336;\n",
       "    }\n",
       "</style>\n"
      ],
      "text/plain": [
       "<IPython.core.display.HTML object>"
      ]
     },
     "metadata": {},
     "output_type": "display_data"
    },
    {
     "data": {
      "text/html": [
       "\n",
       "    <div>\n",
       "      <progress value='10' class='' max='10' style='width:300px; height:20px; vertical-align: middle;'></progress>\n",
       "      100.00% [10/10 00:01&lt;00:00 Images downloaded]\n",
       "    </div>\n",
       "    "
      ],
      "text/plain": [
       "<IPython.core.display.HTML object>"
      ]
     },
     "metadata": {},
     "output_type": "display_data"
    },
    {
     "data": {
      "text/plain": [
       "[WindowsPath('c:/Users/lcapitanio/Google Drive/Didattica/LUISS/LABGP3 - INTELLIGENZA ARTIFICIALE - ARTIFICIAL INTELLIGENCE/0 Introduzione a Python/animals/dog/001_3d932938.jpg'),\n",
       " WindowsPath('c:/Users/lcapitanio/Google Drive/Didattica/LUISS/LABGP3 - INTELLIGENZA ARTIFICIALE - ARTIFICIAL INTELLIGENCE/0 Introduzione a Python/animals/dog/002_a249c127.jpg'),\n",
       " WindowsPath('c:/Users/lcapitanio/Google Drive/Didattica/LUISS/LABGP3 - INTELLIGENZA ARTIFICIALE - ARTIFICIAL INTELLIGENCE/0 Introduzione a Python/animals/dog/003_f6f13201.jpg'),\n",
       " WindowsPath('c:/Users/lcapitanio/Google Drive/Didattica/LUISS/LABGP3 - INTELLIGENZA ARTIFICIALE - ARTIFICIAL INTELLIGENCE/0 Introduzione a Python/animals/dog/004_2287b20a.jpg'),\n",
       " WindowsPath('c:/Users/lcapitanio/Google Drive/Didattica/LUISS/LABGP3 - INTELLIGENZA ARTIFICIALE - ARTIFICIAL INTELLIGENCE/0 Introduzione a Python/animals/dog/005_276c1432.jpg'),\n",
       " WindowsPath('c:/Users/lcapitanio/Google Drive/Didattica/LUISS/LABGP3 - INTELLIGENZA ARTIFICIALE - ARTIFICIAL INTELLIGENCE/0 Introduzione a Python/animals/dog/006_b7df3b71.jpg'),\n",
       " WindowsPath('c:/Users/lcapitanio/Google Drive/Didattica/LUISS/LABGP3 - INTELLIGENZA ARTIFICIALE - ARTIFICIAL INTELLIGENCE/0 Introduzione a Python/animals/dog/007_5bb69d86.jpg'),\n",
       " WindowsPath('c:/Users/lcapitanio/Google Drive/Didattica/LUISS/LABGP3 - INTELLIGENZA ARTIFICIALE - ARTIFICIAL INTELLIGENCE/0 Introduzione a Python/animals/dog/008_7cd748c5.jpg'),\n",
       " WindowsPath('c:/Users/lcapitanio/Google Drive/Didattica/LUISS/LABGP3 - INTELLIGENZA ARTIFICIALE - ARTIFICIAL INTELLIGENCE/0 Introduzione a Python/animals/dog/009_47430673.jpg'),\n",
       " WindowsPath('c:/Users/lcapitanio/Google Drive/Didattica/LUISS/LABGP3 - INTELLIGENZA ARTIFICIALE - ARTIFICIAL INTELLIGENCE/0 Introduzione a Python/animals/dog/010_d7313f5b.jpg')]"
      ]
     },
     "execution_count": 20,
     "metadata": {},
     "output_type": "execute_result"
    }
   ],
   "source": [
    "animals=['cat','dog']\n",
    "path = Path().cwd()/\"animals\"#assigns path to current working directory\n",
    "duckduckgo_search(path,\"cat\",\"cats\",max_results=10) #downloads 100 images of 'cats' and saves it in path/cat\n",
    "duckduckgo_search(path,\"dog\",\"dogs\",max_results=10) #downloads 100 images of 'cats' and saves it in path/cat"
   ]
  },
  {
   "cell_type": "code",
   "execution_count": 21,
   "metadata": {},
   "outputs": [
    {
     "data": {
      "application/vnd.jupyter.widget-view+json": {
       "model_id": "7a30601547644111962c36137964d846",
       "version_major": 2,
       "version_minor": 0
      },
      "text/plain": [
       "HBox(children=(Button(description='|<<', layout=Layout(width='60px'), style=ButtonStyle()), Button(description…"
      ]
     },
     "metadata": {},
     "output_type": "display_data"
    },
    {
     "data": {
      "application/vnd.jupyter.widget-view+json": {
       "model_id": "68b9144da1ef48b19d327cee99073036",
       "version_major": 2,
       "version_minor": 0
      },
      "text/plain": [
       "HTML(value='<h2>No images left to display in this folder.</h2>', layout=Layout(visibility='hidden'))"
      ]
     },
     "metadata": {},
     "output_type": "display_data"
    },
    {
     "data": {
      "application/vnd.jupyter.widget-view+json": {
       "model_id": "d93ce96be0bb483c8aadd31ccb068824",
       "version_major": 2,
       "version_minor": 0
      },
      "text/plain": [
       "GridBox(children=(VBox(children=(Image(value=b'', layout=\"Layout(width='150px')\"), Button(description='Delete'…"
      ]
     },
     "metadata": {},
     "output_type": "display_data"
    }
   ],
   "source": [
    "display_image_cleaner(path)"
   ]
  },
  {
   "cell_type": "code",
   "execution_count": 24,
   "metadata": {},
   "outputs": [
    {
     "ename": "NameError",
     "evalue": "name 'get_image_files' is not defined",
     "output_type": "error",
     "traceback": [
      "\u001b[1;31m---------------------------------------------------------------------------\u001b[0m",
      "\u001b[1;31mNameError\u001b[0m                                 Traceback (most recent call last)",
      "\u001b[1;32mC:\\Users\\LCAPIT~1\\AppData\\Local\\Temp/ipykernel_21688/3106222147.py\u001b[0m in \u001b[0;36m<module>\u001b[1;34m\u001b[0m\n\u001b[1;32m----> 1\u001b[1;33m \u001b[0mfns\u001b[0m\u001b[1;33m=\u001b[0m\u001b[0mget_image_files\u001b[0m\u001b[1;33m(\u001b[0m\u001b[0mpath\u001b[0m\u001b[1;33m)\u001b[0m\u001b[1;33m\u001b[0m\u001b[1;33m\u001b[0m\u001b[0m\n\u001b[0m\u001b[0;32m      2\u001b[0m \u001b[0mfns\u001b[0m\u001b[1;33m\u001b[0m\u001b[1;33m\u001b[0m\u001b[0m\n",
      "\u001b[1;31mNameError\u001b[0m: name 'get_image_files' is not defined"
     ]
    }
   ],
   "source": [
    "\n",
    "fns=get_image_files(path)\n",
    "fns"
   ]
  }
 ],
 "metadata": {
  "kernelspec": {
   "display_name": "Python 3.9.13 64-bit (microsoft store)",
   "language": "python",
   "name": "python3"
  },
  "language_info": {
   "codemirror_mode": {
    "name": "ipython",
    "version": 3
   },
   "file_extension": ".py",
   "mimetype": "text/x-python",
   "name": "python",
   "nbconvert_exporter": "python",
   "pygments_lexer": "ipython3",
   "version": "3.9.13"
  },
  "vscode": {
   "interpreter": {
    "hash": "b62038c88d86df113664c67e0595a7e5d5857d9b34442a8f39dffa4462ab8f77"
   }
  }
 },
 "nbformat": 4,
 "nbformat_minor": 2
}
