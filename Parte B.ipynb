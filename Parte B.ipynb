{
 "cells": [
  {
   "cell_type": "markdown",
   "metadata": {},
   "source": [
    "# Modelliamo dati complessi\n",
    "\n",
    "Quando dobbiamo memorizzare dati un po' più complessi dei nomi di un bene o i prezzi ed altro dato elementare dobbiamo usare dei tipi di variabili un po' più complesse di Python.\n",
    "## Gli oggetti\n",
    "## Gli attributi\n",
    "Ad esempio se voglio modellare alcuni cagnolini provenienti da diverse parti del mondo ad un certo livello (basso) di astrazione possiamo dire che il generico cagnolino è rappresentabile con un certo numero di attributi:\n",
    "- Il suo nome;\n",
    "- Il suo sesso;\n",
    "- la sua nazionalità;\n",
    "- La sua età;\n",
    "- Il verso che emette;\n",
    "Come facciamo a scrivere questo modello in Python?\n",
    "Ma con gli oggetti! Che domande.\n",
    "\n",
    "In Python possiamo creare una variabile che appartiene ad una classe di oggetti che possiamo definire noi."
   ]
  },
  {
   "cell_type": "code",
   "execution_count": 10,
   "metadata": {},
   "outputs": [],
   "source": [
    "class Dog:\n",
    "    def __init__(self, nome, sesso, eta, nazionalita, verso):\n",
    "        self.nome        = nome\n",
    "        self.sesso       = sesso\n",
    "        self.eta         = eta\n",
    "        self.nazionalita = nazionalita\n",
    "        self.verso       = verso"
   ]
  },
  {
   "cell_type": "markdown",
   "metadata": {},
   "source": [
    "Possiamo creare il primo cagnolino, ad esempio Italiano:"
   ]
  },
  {
   "cell_type": "code",
   "execution_count": 11,
   "metadata": {},
   "outputs": [],
   "source": [
    "mimmo = Dog( \"Mimmo\", \"maschio\", 17, \"Italia\", \"Bau, bau!\")"
   ]
  },
  {
   "cell_type": "markdown",
   "metadata": {},
   "source": [
    "Poi un cagnolino Giapponese:"
   ]
  },
  {
   "cell_type": "code",
   "execution_count": 12,
   "metadata": {},
   "outputs": [],
   "source": [
    "hana = Dog( \"Hana\", \"femmina\", 17, \"Giappone\", \"Wan, wan!\")"
   ]
  },
  {
   "cell_type": "markdown",
   "metadata": {},
   "source": [
    "E uno Tedesco"
   ]
  },
  {
   "cell_type": "code",
   "execution_count": 13,
   "metadata": {},
   "outputs": [],
   "source": [
    "ada = Dog( \"Ada\", \"femmina\", 12, \"Germania\", \"wuff, wuff!\")"
   ]
  },
  {
   "cell_type": "markdown",
   "metadata": {},
   "source": [
    "Possiamo vedere il contenuto degli attributi molto facilmente:"
   ]
  },
  {
   "cell_type": "code",
   "execution_count": 14,
   "metadata": {},
   "outputs": [
    {
     "name": "stdout",
     "output_type": "stream",
     "text": [
      "Ada\n",
      "femmina\n",
      "12\n",
      "Germania\n",
      "Mi chiamo Ada, sono un cane femmina di 12 anni e vengo da Germania\n"
     ]
    }
   ],
   "source": [
    "print(ada.nome)\n",
    "print(ada.sesso)\n",
    "print(ada.eta)\n",
    "print(ada.nazionalita)\n",
    "descrizione = f\"Mi chiamo {ada.nome}, sono un cane {ada.sesso} di {ada.eta} anni e vengo da {ada.nazionalita}\"\n",
    "print(descrizione)"
   ]
  },
  {
   "cell_type": "markdown",
   "metadata": {},
   "source": [
    "Ma se vogliamo modellare anche il comportamento dei cagnolini?\n",
    "Ad esempio, come potremmo modellare il saluto dei cagnolini?\n",
    "Che entrino i \"metodi\" degli oggetti in python!\n",
    "## I metodi\n",
    "\n",
    "Possiamo modellare il comportamento degli oggetti reali usando i metodi delle classi di Python.\n",
    "I metodi possono essere pensati come le azioni che possono fare gli oggetti.\n",
    "Vediamo come si scrivono in Python.\n",
    "Proviamo a scrivere il metodo che consente ai cagnolini di salutare.\n"
   ]
  },
  {
   "cell_type": "code",
   "execution_count": 15,
   "metadata": {},
   "outputs": [],
   "source": [
    "    \n",
    "class Dog:\n",
    "    def __init__(self, nome, sesso, eta, nazionalita, verso):\n",
    "        self.nome        = nome\n",
    "        self.sesso       = sesso\n",
    "        self.eta         = eta\n",
    "        self.nazionalita = nazionalita\n",
    "        self.verso       = verso\n",
    "    def abbaia(self):\n",
    "        print(self.verso)\n"
   ]
  },
  {
   "cell_type": "markdown",
   "metadata": {},
   "source": [
    "Per usare la nuova classe cane dobbiamo ricreare i cagnolini:\n"
   ]
  },
  {
   "cell_type": "code",
   "execution_count": 16,
   "metadata": {},
   "outputs": [],
   "source": [
    "mimmo = Dog( \"Mimmo\", \"maschio\", 17, \"Italia\", \"Bau, bau!\")\n",
    "hana   = Dog( \"Hana\", \"femmina\", 17, \"Giappone\", \"Wan, wan!\")\n",
    "ada   = Dog( \"Ada\", \"femmina\", 12, \"Germania\", \"wuff, wuff!\")\n"
   ]
  },
  {
   "cell_type": "markdown",
   "metadata": {},
   "source": [
    "Vediamo come abbaia un cane Italiano:"
   ]
  },
  {
   "cell_type": "code",
   "execution_count": 17,
   "metadata": {},
   "outputs": [
    {
     "name": "stdout",
     "output_type": "stream",
     "text": [
      "Bau, bau!\n"
     ]
    }
   ],
   "source": [
    "mimmo.abbaia()"
   ]
  },
  {
   "cell_type": "markdown",
   "metadata": {},
   "source": [
    "Una Giapponese"
   ]
  },
  {
   "cell_type": "code",
   "execution_count": 18,
   "metadata": {},
   "outputs": [
    {
     "name": "stdout",
     "output_type": "stream",
     "text": [
      "Wan, wan!\n"
     ]
    }
   ],
   "source": [
    "hana.abbaia()"
   ]
  },
  {
   "cell_type": "markdown",
   "metadata": {},
   "source": [
    "Infine, vediamo la cagnolina Tedesca :"
   ]
  },
  {
   "cell_type": "code",
   "execution_count": 19,
   "metadata": {},
   "outputs": [
    {
     "name": "stdout",
     "output_type": "stream",
     "text": [
      "wuff, wuff!\n"
     ]
    }
   ],
   "source": [
    "ada.abbaia()"
   ]
  },
  {
   "cell_type": "markdown",
   "metadata": {},
   "source": [
    "Possiamo anche creare un metodo perché il generico cagnolino si possa presentare all'universo mondo:"
   ]
  },
  {
   "cell_type": "code",
   "execution_count": 1,
   "metadata": {},
   "outputs": [],
   "source": [
    "class Dog:\n",
    "    def __init__(self, nome, sesso, eta, nazionalita, verso):\n",
    "        self.nome        = nome\n",
    "        self.sesso       = sesso\n",
    "        self.eta         = eta\n",
    "        self.nazionalita = nazionalita\n",
    "        self.verso       = verso\n",
    "    def abbaia(self):\n",
    "        print(self.verso)\n",
    "    def descriviTeStesso(self):\n",
    "        print(\"Mi chiamo \", self.nome,\", sono un cane \", self.sesso, \" di \", self.eta, \" anni e la mia nazione di origine è \", self.nazionalita, \". Il mio verso è \", self.verso)"
   ]
  },
  {
   "cell_type": "markdown",
   "metadata": {},
   "source": [
    "Creiamo nuovamente i tre oggetti:"
   ]
  },
  {
   "cell_type": "code",
   "execution_count": 2,
   "metadata": {},
   "outputs": [],
   "source": [
    "mimmo = Dog( \"Mimmo\", \"maschio\", 17, \"Italia\", \"Bau, bau!\")\n",
    "hana   = Dog( \"Hana\", \"femmina\", 17, \"Giappone\", \"Wan, wan!\")\n",
    "ada   = Dog( \"Ada\", \"femmina\", 12, \"Germania\", \"wuff, wuff!\")\n"
   ]
  },
  {
   "cell_type": "markdown",
   "metadata": {},
   "source": [
    "Vediamo come si presenta al mondo la cagnolina Giapponese:"
   ]
  },
  {
   "cell_type": "code",
   "execution_count": 3,
   "metadata": {},
   "outputs": [
    {
     "name": "stdout",
     "output_type": "stream",
     "text": [
      "Mi chiamo  Hana , sono un cane  femmina  di  17  anni e la mia nazione di origine è  Giappone . Il mio verso è  Wan, wan!\n"
     ]
    }
   ],
   "source": [
    "hana.descriviTeStesso()"
   ]
  }
 ],
 "metadata": {
  "kernelspec": {
   "display_name": "Python 3.9.13 64-bit (microsoft store)",
   "language": "python",
   "name": "python3"
  },
  "language_info": {
   "codemirror_mode": {
    "name": "ipython",
    "version": 3
   },
   "file_extension": ".py",
   "mimetype": "text/x-python",
   "name": "python",
   "nbconvert_exporter": "python",
   "pygments_lexer": "ipython3",
   "version": "3.9.13"
  },
  "vscode": {
   "interpreter": {
    "hash": "b62038c88d86df113664c67e0595a7e5d5857d9b34442a8f39dffa4462ab8f77"
   }
  }
 },
 "nbformat": 4,
 "nbformat_minor": 2
}
