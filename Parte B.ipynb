{
 "cells": [
  {
   "cell_type": "markdown",
   "source": [
    "# Modelliamo dati complessi\n",
    "\n",
    "Quando dobbiamo memorizzare dati un po' più complessi dei nomi di un bene o i prezzi ed altro dato elementare dobbiamo usare dei tipi di variabili un po' più complesse di Python.\n",
    "## Gli oggetti\n",
    "## Gli attributi\n",
    "Ad esempio se voglio modellare alcuni cagnolini provenienti da diverse parti del mondo ad un certo livello (basso) di astrazione possiamo dire che il generico cagnolino è rappresentabile con un certo numero di attributi:\n",
    "- Il suo nome;\n",
    "- Il suo sesso;\n",
    "- la sua nazionalità;\n",
    "- La sua età;\n",
    "- Il verso che emette;\n",
    "Come facciamo a scrivere questo modello in Python?\n",
    "Ma con gli oggetti! Che domande.\n",
    "\n",
    "In Python possiamo creare una variabile che appartiene ad una classe di oggetti che possiamo definire noi."
   ],
   "metadata": {}
  },
  {
   "cell_type": "code",
   "execution_count": 10,
   "source": [
    "class Dog:\r\n",
    "    def __init__(self, nome, sesso, eta, nazionalita, verso):\r\n",
    "        self.nome        = nome\r\n",
    "        self.sesso       = sesso\r\n",
    "        self.eta         = eta\r\n",
    "        self.nazionalita = nazionalita\r\n",
    "        self.verso       = verso"
   ],
   "outputs": [],
   "metadata": {}
  },
  {
   "cell_type": "markdown",
   "source": [
    "Possiamo creare il primo cagnolino, ad esempio Italiano:"
   ],
   "metadata": {}
  },
  {
   "cell_type": "code",
   "execution_count": 11,
   "source": [
    "mimmo = Dog( \"Mimmo\", \"maschio\", 17, \"Italia\", \"Bau, bau!\")"
   ],
   "outputs": [],
   "metadata": {}
  },
  {
   "cell_type": "markdown",
   "source": [
    "Poi un cagnolino Giapponese:"
   ],
   "metadata": {}
  },
  {
   "cell_type": "code",
   "execution_count": 12,
   "source": [
    "hana = Dog( \"Hana\", \"femmina\", 17, \"Giappone\", \"Wan, wan!\")"
   ],
   "outputs": [],
   "metadata": {}
  },
  {
   "cell_type": "markdown",
   "source": [
    "E uno Tedesco"
   ],
   "metadata": {}
  },
  {
   "cell_type": "code",
   "execution_count": 13,
   "source": [
    "ada = Dog( \"Ada\", \"femmina\", 12, \"Germania\", \"wuff, wuff!\")"
   ],
   "outputs": [],
   "metadata": {}
  },
  {
   "cell_type": "markdown",
   "source": [
    "Possiamo vedere il contenuto degli attributi molto facilmente:"
   ],
   "metadata": {}
  },
  {
   "cell_type": "code",
   "execution_count": 14,
   "source": [
    "print(ada.nome)\r\n",
    "print(ada.sesso)\r\n",
    "print(ada.eta)\r\n",
    "print(ada.nazionalita)\r\n",
    "descrizione = f\"Mi chiamo {ada.nome}, sono un cane {ada.sesso} di {ada.eta} anni e vengo da {ada.nazionalita}\"\r\n",
    "print(descrizione)"
   ],
   "outputs": [
    {
     "output_type": "stream",
     "name": "stdout",
     "text": [
      "Ada\n",
      "femmina\n",
      "12\n",
      "Germania\n",
      "Mi chiamo Ada, sono un cane femmina di 12 anni e vengo da Germania\n"
     ]
    }
   ],
   "metadata": {}
  },
  {
   "cell_type": "markdown",
   "source": [
    "Ma se vogliamo modellare anche il comportamento dei cagnolini?\n",
    "Ad esempio, come potremmo modellare il saluto dei cagnolini?\n",
    "Che entrino i \"metodi\" degli oggetti in python!\n",
    "## I metodi\n",
    "\n",
    "Possiamo modellare il comportamento degli oggetti reali usando i metodi delle classi di Python.\n",
    "I metodi possono essere pensati come le azioni che possono fare gli oggetti.\n",
    "Vediamo come si scrivono in Python.\n",
    "Proviamo a scrivere il metodo che consente ai cagnolini di salutare.\n"
   ],
   "metadata": {}
  },
  {
   "cell_type": "code",
   "execution_count": 15,
   "source": [
    "    \r\n",
    "class Dog:\r\n",
    "    def __init__(self, nome, sesso, eta, nazionalita, verso):\r\n",
    "        self.nome        = nome\r\n",
    "        self.sesso       = sesso\r\n",
    "        self.eta         = eta\r\n",
    "        self.nazionalita = nazionalita\r\n",
    "        self.verso       = verso\r\n",
    "    def abbaia(self):\r\n",
    "        print(self.verso)\r\n"
   ],
   "outputs": [],
   "metadata": {}
  },
  {
   "cell_type": "markdown",
   "source": [
    "Per usare la nuova classe cane dobbiamo ricreare i cagnolini:\n"
   ],
   "metadata": {}
  },
  {
   "cell_type": "code",
   "execution_count": 16,
   "source": [
    "mimmo = Dog( \"Mimmo\", \"maschio\", 17, \"Italia\", \"Bau, bau!\")\r\n",
    "hana   = Dog( \"Hana\", \"femmina\", 17, \"Giappone\", \"Wan, wan!\")\r\n",
    "ada   = Dog( \"Ada\", \"femmina\", 12, \"Germania\", \"wuff, wuff!\")\r\n"
   ],
   "outputs": [],
   "metadata": {}
  },
  {
   "cell_type": "markdown",
   "source": [
    "Vediamo come abbaia un cane Italiano:"
   ],
   "metadata": {}
  },
  {
   "cell_type": "code",
   "execution_count": 17,
   "source": [
    "mimmo.abbaia()"
   ],
   "outputs": [
    {
     "output_type": "stream",
     "name": "stdout",
     "text": [
      "Bau, bau!\n"
     ]
    }
   ],
   "metadata": {}
  },
  {
   "cell_type": "markdown",
   "source": [
    "Una Giapponese"
   ],
   "metadata": {}
  },
  {
   "cell_type": "code",
   "execution_count": 18,
   "source": [
    "hana.abbaia()"
   ],
   "outputs": [
    {
     "output_type": "stream",
     "name": "stdout",
     "text": [
      "Wan, wan!\n"
     ]
    }
   ],
   "metadata": {}
  },
  {
   "cell_type": "markdown",
   "source": [
    "Infine, vediamo la cagnolina Tedesca Tedesco:"
   ],
   "metadata": {}
  },
  {
   "cell_type": "code",
   "execution_count": 19,
   "source": [
    "ada.abbaia()"
   ],
   "outputs": [
    {
     "output_type": "stream",
     "name": "stdout",
     "text": [
      "wuff, wuff!\n"
     ]
    }
   ],
   "metadata": {}
  },
  {
   "cell_type": "markdown",
   "source": [
    "Possiamo anche creare un metodo perché il generico cagnolino si possa presentare all'universo mondo:"
   ],
   "metadata": {}
  },
  {
   "cell_type": "code",
   "execution_count": 20,
   "source": [
    "class Dog:\r\n",
    "    def __init__(self, nome, sesso, eta, nazionalita, verso):\r\n",
    "        self.nome        = nome\r\n",
    "        self.sesso       = sesso\r\n",
    "        self.eta         = eta\r\n",
    "        self.nazionalita = nazionalita\r\n",
    "        self.verso       = verso\r\n",
    "    def abbaia(self):\r\n",
    "        print(self.verso)\r\n",
    "    def descriviTeStesso(self):\r\n",
    "        print(\"Mi chiamo \", self.nome,\", sono un cane \", self.sesso, \" di \", self.eta, \" anni e vengo da \", self.nazionalita, \". Il mio verso è \", self.verso)"
   ],
   "outputs": [],
   "metadata": {}
  },
  {
   "cell_type": "markdown",
   "source": [
    "Creiamo nuovamente i tre oggetti:"
   ],
   "metadata": {}
  },
  {
   "cell_type": "code",
   "execution_count": 22,
   "source": [
    "mimmo = Dog( \"Mimmo\", \"maschio\", 17, \"Italia\", \"Bau, bau!\")\r\n",
    "hana   = Dog( \"Hana\", \"femmina\", 17, \"Giappone\", \"Wan, wan!\")\r\n",
    "ada   = Dog( \"Ada\", \"femmina\", 12, \"Germania\", \"wuff, wuff!\")\r\n"
   ],
   "outputs": [],
   "metadata": {}
  },
  {
   "cell_type": "markdown",
   "source": [
    "Vediamo come si presenta al mondo la cagnolina Giapponese:"
   ],
   "metadata": {}
  },
  {
   "cell_type": "code",
   "execution_count": 23,
   "source": [
    "hana.descriviTeStesso()"
   ],
   "outputs": [
    {
     "output_type": "stream",
     "name": "stdout",
     "text": [
      "Mi chiamo  Hana , sono un cane  femmina  di  17  anni e vengo da  Giappone . Il mio verso è  Wan, wan!\n"
     ]
    }
   ],
   "metadata": {}
  }
 ],
 "metadata": {
  "interpreter": {
   "hash": "27790848d2f697d033d515d6398d3508bf4a8733d68ef0aee9b2086a7f9df1cf"
  },
  "kernelspec": {
   "name": "python3",
   "display_name": "Python 3.9.7 64-bit (windows store)"
  },
  "language_info": {
   "codemirror_mode": {
    "name": "ipython",
    "version": 3
   },
   "file_extension": ".py",
   "mimetype": "text/x-python",
   "name": "python",
   "nbconvert_exporter": "python",
   "pygments_lexer": "ipython3",
   "version": "3.9.7"
  }
 },
 "nbformat": 4,
 "nbformat_minor": 2
}