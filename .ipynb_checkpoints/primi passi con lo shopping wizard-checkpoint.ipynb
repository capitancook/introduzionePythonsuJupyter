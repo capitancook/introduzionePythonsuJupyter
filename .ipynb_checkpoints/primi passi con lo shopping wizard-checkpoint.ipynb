{
 "cells": [
  {
   "cell_type": "markdown",
   "id": "860906d3",
   "metadata": {},
   "source": [
    "Cominciamo con un classico. Hello world"
   ]
  },
  {
   "cell_type": "code",
   "execution_count": null,
   "id": "42ed1dcd",
   "metadata": {},
   "outputs": [],
   "source": [
    "print('Hello World!')"
   ]
  },
  {
   "cell_type": "markdown",
   "id": "f9f36ac3",
   "metadata": {},
   "source": [
    "C'è un detto famoso in informatica che dice \"strutture dati + algoritmo = software\".\n",
    "Il software è scritto per risolvere o aiutare a risolvere un qualche problema.\n",
    "Ad esempio, se vogliamo scrivere un software, lo \"shoppig wiward\", per aiutarci nello shopping durante i saldi di che cosa abbiamo bisogno?\n",
    "Ricordate \"strutture dati + algoritmo = software\". \n",
    "\n",
    "Cominciamo dai dati!\n",
    "I dati, quando ne facciamo un uso temporaneo, sono memorizzati in contenitori creati nella memoria volatile del vostro computer chiamati variabili  sono invece memorizzati in file o data base quando vogliamo che i dati persistano all'esecuzione corrente del software.\n",
    "# Variabili\n",
    "Nelle variabili mettiamo quei dati che sono utili per le elaborazioni correnti e i risultati delle elaborazioni. Ad esempio nel caso dello Shopping wizard abbiamo bisogno di memorizzare il nome del bene che vogliamo valutare per l'acquisto. In Python è semplicemente una questione di usare la fantasia per dare il nome ad una variabile, un contenitore in memoria, e poi inizializzarla con un contenuto\n"
   ]
  },
  {
   "cell_type": "code",
   "execution_count": null,
   "id": "d0efa8aa",
   "metadata": {},
   "outputs": [],
   "source": [
    "bene = \"giacca rosa\""
   ]
  },
  {
   "cell_type": "markdown",
   "id": "83f1c66b",
   "metadata": {},
   "source": [
    "Poi abbiamo bisogno di una variabile per contenere il prezzo pieno, una per lo sconto percentuale, una per contenere lo sconto ottenibile e una per il prezzo scontato."
   ]
  },
  {
   "cell_type": "code",
   "execution_count": null,
   "id": "3b8a2d22",
   "metadata": {},
   "outputs": [],
   "source": [
    "prezzoPieno = 170\n",
    "scontoPerc = 40\n",
    "sconto = \n",
    "prezzoFinito = "
   ]
  },
  {
   "cell_type": "markdown",
   "id": "9ae0073f",
   "metadata": {},
   "source": [
    "Adesso dobbiamo solo inserire le formule per calcolare le due grandezze ancora incognite: lo sconto e il prezzoFinito."
   ]
  }
 ],
 "metadata": {
  "interpreter": {
   "hash": "63fd5069d213b44bf678585dea6b12cceca9941eaf7f819626cde1f2670de90d"
  },
  "kernelspec": {
   "display_name": "Python 3",
   "language": "python",
   "name": "python3"
  },
  "language_info": {
   "codemirror_mode": {
    "name": "ipython",
    "version": 3
   },
   "file_extension": ".py",
   "mimetype": "text/x-python",
   "name": "python",
   "nbconvert_exporter": "python",
   "pygments_lexer": "ipython3",
   "version": "3.8.8"
  }
 },
 "nbformat": 4,
 "nbformat_minor": 5
}
