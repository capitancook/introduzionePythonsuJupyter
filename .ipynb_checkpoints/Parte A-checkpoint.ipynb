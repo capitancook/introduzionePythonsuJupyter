{
 "cells": [
  {
   "cell_type": "markdown",
   "id": "78855ee9",
   "metadata": {},
   "source": [
    "#Hello World!\n",
    "Cominciamo con un classico. Hello world"
   ]
  },
  {
   "cell_type": "code",
   "execution_count": 1,
   "id": "7c50267d",
   "metadata": {},
   "outputs": [
    {
     "name": "stdout",
     "output_type": "stream",
     "text": [
      "Ciao mondo!\n"
     ]
    }
   ],
   "source": [
    "print('Ciao mondo!')"
   ]
  },
  {
   "cell_type": "markdown",
   "id": "0ef41ff3",
   "metadata": {},
   "source": [
    "# Strutture dati + algoritmi = software\n",
    "## il progetto di uno shopping wizard\n",
    "C'è un  famoso detto in informatica che recita \"strutture dati + algoritmo = software\".\n",
    "Il software è scritto per risolvere o aiutare a risolvere un qualche problema.\n",
    "Ad esempio, se vogliamo scrivere un software, lo \"shoppig wiward\", per aiutarci nello shopping durante i saldi di che cosa abbiamo bisogno?\n",
    "Ricordate \"strutture dati + algoritmo = software\". \n",
    "\n",
    "Cominciamo dai dati!\n",
    "I dati, quando ne facciamo un uso temporaneo, sono memorizzati in contenitori creati nella memoria volatile del vostro computer chiamati variabili  sono invece memorizzati in file o data base quando vogliamo che i dati persistano all'esecuzione corrente del software.\n",
    "\n",
    "# Variabili\n",
    "Nelle variabili mettiamo quei dati che sono utili per le elaborazioni correnti e i risultati delle elaborazioni. Ad esempio nel caso dello Shopping wizard abbiamo bisogno di memorizzare il nome del bene che vogliamo valutare per l'acquisto. In Python è semplicemente una questione di usare la fantasia per dare il nome ad una variabile, un contenitore in memoria, e poi inizializzarla con un contenuto\n"
   ]
  },
  {
   "cell_type": "code",
   "execution_count": 3,
   "id": "421ad713",
   "metadata": {},
   "outputs": [],
   "source": [
    "bene = \"giacca rosa\""
   ]
  },
  {
   "cell_type": "markdown",
   "id": "a82b550f",
   "metadata": {},
   "source": [
    "Poi abbiamo bisogno di una variabile per contenere il prezzo pieno, una per lo sconto percentuale, una per contenere lo sconto ottenibile e una per il prezzo scontato."
   ]
  },
  {
   "cell_type": "code",
   "execution_count": 7,
   "id": "4523e720",
   "metadata": {},
   "outputs": [],
   "source": [
    "prezzoPieno = 170\n",
    "scontoPerc = 40\n",
    "sconto = 0\n",
    "prezzoFinito = 0"
   ]
  },
  {
   "cell_type": "markdown",
   "id": "48c3ea43",
   "metadata": {},
   "source": [
    "Adesso dobbiamo solo inserire le formule per calcolare le due grandezze ancora incognite: lo sconto e il prezzoFinito.\n",
    "Ovvero, dobbiamo aggiungere alle strutture dati l'algoritmo.\n",
    "Ma questo lo facciamo insieme...."
   ]
  },
  {
   "cell_type": "code",
   "execution_count": 8,
   "id": "446e6c70",
   "metadata": {},
   "outputs": [
    {
     "name": "stdout",
     "output_type": "stream",
     "text": [
      "Stai valutando l'acquisto di >|  giacca rosa  |\n",
      "\n",
      "giacca rosa  costa  170  €\n",
      "\n",
      "Il negoziante applica uno sconto del  40 %\n",
      "\n",
      "Lo sconto sarebbe di  0 €\n",
      "\n",
      "Il prezzo finito è quindi pari a  0 €\n",
      "\n"
     ]
    }
   ],
   "source": [
    "print(\"Stai valutando l'acquisto di >| \",bene,\" |\\n\" )\n",
    "print(bene,\" costa \", prezzoPieno, \" €\\n\" )\n",
    "print(\"Il negoziante applica uno sconto del \" ,scontoPerc, \"%\\n\" )\n",
    "print(\"Lo sconto sarebbe di \" ,sconto, \"€\\n\" )\n",
    "print(\"Il prezzo finito è quindi pari a \" ,prezzoFinito, \"€\\n\" )\n",
    "\n"
   ]
  }
 ],
 "metadata": {
  "interpreter": {
   "hash": "63fd5069d213b44bf678585dea6b12cceca9941eaf7f819626cde1f2670de90d"
  },
  "kernelspec": {
   "display_name": "Python 3",
   "language": "python",
   "name": "python3"
  },
  "language_info": {
   "codemirror_mode": {
    "name": "ipython",
    "version": 3
   },
   "file_extension": ".py",
   "mimetype": "text/x-python",
   "name": "python",
   "nbconvert_exporter": "python",
   "pygments_lexer": "ipython3",
   "version": "3.8.8"
  }
 },
 "nbformat": 4,
 "nbformat_minor": 5
}
