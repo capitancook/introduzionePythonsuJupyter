{
 "cells": [
  {
   "cell_type": "markdown",
   "metadata": {},
   "source": [
    "# Modelliamo dati complessi\n",
    "\n",
    "Quando dobbiamo memorizzare dati un po' più complessi dei nomi di un bene o i prezzi ed altro dato elementare dobbiamo usare dei tipi di variabili un po' più complesse di Python.\n",
    "## Gli oggetti\n",
    "## Gli attributi\n",
    "Ad esempio se voglio modellare alcuni cagnolini provenienti da diverse parti del mondo ad un certo livello (basso) di astrazione possiamo dire che il generico cagnolino è rappresentabile con un certo numero di attributi:\n",
    "- Il suo nome;\n",
    "- Il suo sesso;\n",
    "- la sua nazionalità;\n",
    "- La sua età;\n",
    "- Il verso che emette;\n",
    "Come facciamo a scrivere questo modello in Python?\n",
    "Ma con gli oggetti! Che domande.\n",
    "\n",
    "In Python possiamo creare una variabile che appartiene ad una classe di oggetti che possiamo definire noi."
   ]
  },
  {
   "cell_type": "code",
   "execution_count": null,
   "metadata": {},
   "outputs": [],
   "source": [
    "class Dog:\n",
    "    def __init__(self, nome, sesso, eta, nazionalita, verso):\n",
    "        self.nome        = nome\n",
    "        self.sesso       = sesso\n",
    "        self.eta         = eta\n",
    "        self.nazionalita = nazionalita\n",
    "        self.verso       = verso"
   ]
  },
  {
   "cell_type": "markdown",
   "metadata": {},
   "source": [
    "Possiamo creare il primo cagnolino, ad esempio Italiano:"
   ]
  },
  {
   "cell_type": "code",
   "execution_count": null,
   "metadata": {},
   "outputs": [],
   "source": [
    "cremino = Dog( \"Cremino\", \"maschio\", 17, \"Italia\", \"Bau, bau!\")"
   ]
  },
  {
   "cell_type": "markdown",
   "metadata": {},
   "source": [
    "Poi un cagnolino Giapponese:"
   ]
  },
  {
   "cell_type": "code",
   "execution_count": null,
   "metadata": {},
   "outputs": [],
   "source": [
    "bungo = Dog( \"Bungo\", \"maschio\", 17, \"Giappone\", \"Wan, wan!\")"
   ]
  },
  {
   "cell_type": "markdown",
   "metadata": {},
   "source": [
    "E uno Tedesco"
   ]
  },
  {
   "cell_type": "code",
   "execution_count": null,
   "metadata": {},
   "outputs": [],
   "source": [
    "fritz = Dog( \"Fritz\", \"maschio\", 12, \"Germania\", \"wuff, wuff!\")"
   ]
  },
  {
   "cell_type": "markdown",
   "metadata": {},
   "source": [
    "Possiamo vedere il contenuto degli attributi molto facilmente:"
   ]
  },
  {
   "cell_type": "code",
   "execution_count": null,
   "metadata": {},
   "outputs": [],
   "source": [
    "print(fritz.nome)\n",
    "print(fritz.sesso)\n",
    "print(fritz.eta)\n",
    "print(fritz.nazionalita)\n",
    "descrizione = f\"Mi chiamo {fritz.nome}, sono un cane {fritz.sesso} di {fritz.eta} anni e vengo da {fritz.nazionalita}\"\n",
    "print(descrizione)"
   ]
  },
  {
   "cell_type": "markdown",
   "metadata": {},
   "source": [
    "Ma se vogliamo modellare anche il comportamento dei cagnolini?\n",
    "Ad esempio, come potremmo modellare il saluto dei cagnolini?\n",
    "Che entrino i \"metodi\" degli oggetti in python!\n",
    "## I metodi\n",
    "\n",
    "Possiamo modellare il comportamento degli oggetti reali usando i metodi delle classi di Python.\n",
    "I metodi possono essere pensati come le azioni che possono fare gli oggetti.\n",
    "Vediamo come si scrivono in Python.\n",
    "Proviamo a scrivere il metodo che consente ai cagnolini di salutare.\n"
   ]
  },
  {
   "cell_type": "code",
   "execution_count": null,
   "metadata": {},
   "outputs": [],
   "source": [
    "    \n",
    "class Dog:\n",
    "    def __init__(self, nome, sesso, eta, nazionalita, verso):\n",
    "        self.nome        = nome\n",
    "        self.sesso       = sesso\n",
    "        self.eta         = eta\n",
    "        self.nazionalita = nazionalita\n",
    "        self.verso       = verso# Instance method\n",
    "    def abbaia(self):\n",
    "        print(self.verso)\n"
   ]
  },
  {
   "cell_type": "markdown",
   "metadata": {},
   "source": [
    "Per usare la nuov classe cane dobbiamo ricreare i cagnolini:\n"
   ]
  },
  {
   "cell_type": "code",
   "execution_count": null,
   "metadata": {},
   "outputs": [],
   "source": [
    "cremino = Dog( \"Cremino\", \"maschio\", 17, \"Italia\", \"Bau, bau!\")\n",
    "bungo   = Dog( \"Bungo\", \"maschio\", 17, \"Giappone\", \"Wan, wan!\")\n",
    "fritz   = Dog( \"Fritz\", \"maschio\", 12, \"Germania\", \"wuff, wuff!\")\n"
   ]
  },
  {
   "cell_type": "markdown",
   "metadata": {},
   "source": [
    "Vediamo come abbaia un cane Italiano:"
   ]
  },
  {
   "cell_type": "code",
   "execution_count": null,
   "metadata": {},
   "outputs": [],
   "source": [
    "cremino.abbaia()"
   ]
  },
  {
   "cell_type": "markdown",
   "metadata": {},
   "source": [
    "Uno Giapponese"
   ]
  },
  {
   "cell_type": "code",
   "execution_count": null,
   "metadata": {},
   "outputs": [],
   "source": [
    "bungo.abbaia()"
   ]
  },
  {
   "cell_type": "markdown",
   "metadata": {},
   "source": [
    "Infine, vediamo il cane Tedesco:"
   ]
  },
  {
   "cell_type": "code",
   "execution_count": 22,
   "metadata": {},
   "outputs": [
    {
     "name": "stdout",
     "output_type": "stream",
     "text": [
      "wuff, wuff!\n"
     ]
    }
   ],
   "source": [
    "fritz.abbaia()"
   ]
  }
 ],
 "metadata": {
  "interpreter": {
   "hash": "63fd5069d213b44bf678585dea6b12cceca9941eaf7f819626cde1f2670de90d"
  },
  "kernelspec": {
   "display_name": "Python 3",
   "language": "python",
   "name": "python3"
  },
  "language_info": {
   "codemirror_mode": {
    "name": "ipython",
    "version": 3
   },
   "file_extension": ".py",
   "mimetype": "text/x-python",
   "name": "python",
   "nbconvert_exporter": "python",
   "pygments_lexer": "ipython3",
   "version": "3.8.8"
  }
 },
 "nbformat": 4,
 "nbformat_minor": 2
}
