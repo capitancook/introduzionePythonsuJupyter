{
 "cells": [
  {
   "cell_type": "markdown",
   "id": "78855ee9",
   "metadata": {},
   "source": [
    "#Hello World!\n",
    "Cominciamo con un classico. Hello world"
   ]
  },
  {
   "cell_type": "code",
   "execution_count": 1,
   "id": "7c50267d",
   "metadata": {},
   "outputs": [
    {
     "name": "stdout",
     "output_type": "stream",
     "text": [
      "Ciao mondo!\n"
     ]
    }
   ],
   "source": [
    "print('Ciao mondo!')"
   ]
  },
  {
   "cell_type": "markdown",
   "id": "0ef41ff3",
   "metadata": {},
   "source": [
    "# Strutture dati + algoritmi = software\n",
    "## il progetto di uno shopping wizard\n",
    "C'è un  testo sacro dell'informatica degli anni '70 che si chiama \"Algorithms + Data Structures = Programs\". Ovvero, un programma non è niente altro che un algoritmo + delle strutture dati. \n",
    "Il software è scritto per risolvere o aiutare a risolvere un qualche problema.\n",
    "Ad esempio, se vogliamo scrivere un software, lo \"shoppig wiwzard\", per aiutarci nello shopping durante i saldi di che cosa abbiamo bisogno?\n",
    "Ricordate \"strutture dati + algoritmo = software\". \n",
    "\n",
    "Cominciamo dai dati!\n",
    "I dati, quando ne facciamo un uso temporaneo, sono memorizzati in contenitori creati nella memoria volatile del vostro computer chiamati variabili  sono invece memorizzati in file o data base quando vogliamo che i dati persistano all'esecuzione corrente del software.\n",
    "\n",
    "# Variabili\n",
    "Nelle variabili mettiamo quei dati che sono utili per le elaborazioni correnti e i risultati delle elaborazioni. Ad esempio nel caso dello Shopping wizard abbiamo bisogno di memorizzare il nome del bene che vogliamo valutare per l'acquisto. In Python è semplicemente una questione di usare la fantasia per dare il nome ad una variabile, un contenitore in memoria, e poi inizializzarla con un contenuto\n"
   ]
  },
  {
   "cell_type": "code",
   "execution_count": 2,
   "id": "421ad713",
   "metadata": {},
   "outputs": [],
   "source": [
    "bene = \"giacca rosa\""
   ]
  },
  {
   "cell_type": "markdown",
   "id": "a82b550f",
   "metadata": {},
   "source": [
    "Poi abbiamo bisogno di una variabile per contenere il prezzo pieno, una per lo sconto percentuale, una per contenere lo sconto ottenibile e una per il prezzo scontato."
   ]
  },
  {
   "cell_type": "code",
   "execution_count": 3,
   "id": "4523e720",
   "metadata": {},
   "outputs": [],
   "source": [
    "prezzoPieno = 170\n",
    "scontoPerc = 40\n",
    "sconto = ?\n",
    "prezzoFinito = ?"
   ]
  },
  {
   "cell_type": "markdown",
   "id": "48c3ea43",
   "metadata": {},
   "source": [
    "Adesso dobbiamo solo inserire le formule per calcolare le due grandezze ancora incognite: lo sconto e il prezzoFinito.\n",
    "Ovvero, dobbiamo aggiungere alle strutture dati l'algoritmo.\n",
    "Ma questo lo facciamo insieme...."
   ]
  },
  {
   "cell_type": "code",
   "execution_count": 6,
   "id": "446e6c70",
   "metadata": {},
   "outputs": [
    {
     "name": "stdout",
     "output_type": "stream",
     "text": [
      "Stai valutando l'acquisto di >|  giacca rosa  |\n",
      "\n",
      "giacca rosa  costa  170  €\n",
      "\n",
      "Il negoziante applica uno sconto del  40 %\n",
      "\n",
      "Lo sconto sarebbe di  68.0 €\n",
      "\n",
      "Il prezzo finito è quindi pari a  102.0 €\n",
      "\n"
     ]
    }
   ],
   "source": [
    "print(\"Stai valutando l'acquisto di >| \",bene,\" |\\n\" )\n",
    "print(bene,\" costa \", prezzoPieno, \" €\\n\" )\n",
    "print(\"Il negoziante applica uno sconto del \" ,scontoPerc, \"%\\n\" )\n",
    "print(\"Lo sconto sarebbe di \" ,sconto, \"€\\n\" )\n",
    "print(\"Il prezzo finito è quindi pari a \" ,prezzoFinito, \"€\\n\" )\n",
    "\n"
   ]
  },
  {
   "cell_type": "code",
   "execution_count": null,
   "id": "6da94c3f",
   "metadata": {},
   "outputs": [],
   "source": []
  }
 ],
 "metadata": {
  "interpreter": {
   "hash": "81794d4967e6c3204c66dcd87b604927b115b27c00565d3d43f05ba2f3a2cb0d"
  },
  "kernelspec": {
   "display_name": "Python 3.9.5 64-bit",
   "language": "python",
   "name": "python3"
  },
  "language_info": {
   "codemirror_mode": {
    "name": "ipython",
    "version": 3
   },
   "file_extension": ".py",
   "mimetype": "text/x-python",
   "name": "python",
   "nbconvert_exporter": "python",
   "pygments_lexer": "ipython3",
   "version": "3.9.5"
  }
 },
 "nbformat": 4,
 "nbformat_minor": 5
}
