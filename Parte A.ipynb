{
 "cells": [
  {
   "cell_type": "markdown",
   "source": [
    "#Hello World!\r\n",
    "Cominciamo con un classico. Hello world"
   ],
   "metadata": {}
  },
  {
   "cell_type": "code",
   "execution_count": null,
   "source": [
    "print('Hello World!')"
   ],
   "outputs": [],
   "metadata": {}
  },
  {
   "cell_type": "markdown",
   "source": [
    "# Strutture dati + algoritmi = software\r\n",
    "## il progetto di uno shopping wizard\r\n",
    "C'è un  famoso detto in informatica che recita \"strutture dati + algoritmo = software\".\r\n",
    "Il software è scritto per risolvere o aiutare a risolvere un qualche problema.\r\n",
    "Ad esempio, se vogliamo scrivere un software, lo \"shoppig wiward\", per aiutarci nello shopping durante i saldi di che cosa abbiamo bisogno?\r\n",
    "Ricordate \"strutture dati + algoritmo = software\". \r\n",
    "\r\n",
    "Cominciamo dai dati!\r\n",
    "I dati, quando ne facciamo un uso temporaneo, sono memorizzati in contenitori creati nella memoria volatile del vostro computer chiamati variabili  sono invece memorizzati in file o data base quando vogliamo che i dati persistano all'esecuzione corrente del software.\r\n",
    "\r\n",
    "# Variabili\r\n",
    "Nelle variabili mettiamo quei dati che sono utili per le elaborazioni correnti e i risultati delle elaborazioni. Ad esempio nel caso dello Shopping wizard abbiamo bisogno di memorizzare il nome del bene che vogliamo valutare per l'acquisto. In Python è semplicemente una questione di usare la fantasia per dare il nome ad una variabile, un contenitore in memoria, e poi inizializzarla con un contenuto\r\n"
   ],
   "metadata": {}
  },
  {
   "cell_type": "code",
   "execution_count": 3,
   "source": [
    "bene = \"giacca rosa\""
   ],
   "outputs": [],
   "metadata": {}
  },
  {
   "cell_type": "markdown",
   "source": [
    "Poi abbiamo bisogno di una variabile per contenere il prezzo pieno, una per lo sconto percentuale, una per contenere lo sconto ottenibile e una per il prezzo scontato."
   ],
   "metadata": {}
  },
  {
   "cell_type": "code",
   "execution_count": 7,
   "source": [
    "prezzoPieno = 170\r\n",
    "scontoPerc = 40\r\n",
    "sconto = 0\r\n",
    "prezzoFinito = 0"
   ],
   "outputs": [],
   "metadata": {}
  },
  {
   "cell_type": "markdown",
   "source": [
    "Adesso dobbiamo solo inserire le formule per calcolare le due grandezze ancora incognite: lo sconto e il prezzoFinito.\r\n",
    "Ovvero, dobbiamo aggiungere alle strutture dati l'algoritmo.\r\n",
    "Ma questo lo facciamo insieme...."
   ],
   "metadata": {}
  },
  {
   "cell_type": "code",
   "execution_count": 8,
   "source": [
    "print(\"Stai valutando l'acquisto di >| \",bene,\" |\\n\" )\r\n",
    "print(bene,\" costa \", prezzoPieno, \" €\\n\" )\r\n",
    "print(\"Il negoziante applica uno sconto del \" ,scontoPerc, \"%\\n\" )\r\n",
    "print(\"Lo sconto sarebbe di \" ,sconto, \"€\\n\" )\r\n",
    "print(\"Il prezzo finito è quindi pari a \" ,prezzoFinito, \"€\\n\" )\r\n",
    "\r\n"
   ],
   "outputs": [
    {
     "output_type": "stream",
     "name": "stdout",
     "text": [
      "Stai valutando l'acquisto di >|  giacca rosa  |\n",
      "\n",
      "giacca rosa  costa  170  €\n",
      "\n",
      "Il negoziante applica uno sconto del  40 %\n",
      "\n",
      "Lo sconto sarebbe di  0 €\n",
      "\n",
      "Il prezzo finito è quindi pari a  0 €\n",
      "\n"
     ]
    }
   ],
   "metadata": {}
  }
 ],
 "metadata": {
  "interpreter": {
   "hash": "63fd5069d213b44bf678585dea6b12cceca9941eaf7f819626cde1f2670de90d"
  },
  "kernelspec": {
   "name": "python3",
   "display_name": "Python 3.9.5 64-bit"
  },
  "language_info": {
   "codemirror_mode": {
    "name": "ipython",
    "version": 3
   },
   "file_extension": ".py",
   "mimetype": "text/x-python",
   "name": "python",
   "nbconvert_exporter": "python",
   "pygments_lexer": "ipython3",
   "version": "3.9.5"
  }
 },
 "nbformat": 4,
 "nbformat_minor": 5
}