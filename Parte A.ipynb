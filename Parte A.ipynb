{
 "cells": [
  {
   "cell_type": "markdown",
   "id": "78855ee9",
   "metadata": {},
   "source": [
    "#Hello World!\n",
    "Cominciamo con un classico. Hello world"
   ]
  },
  {
   "cell_type": "code",
   "execution_count": 1,
   "id": "7c50267d",
   "metadata": {},
   "outputs": [
    {
     "name": "stdout",
     "output_type": "stream",
     "text": [
      "Ciao mondo!\n"
     ]
    }
   ],
   "source": [
    "print('Ciao mondo!')"
   ]
  },
  {
   "cell_type": "markdown",
   "id": "0ef41ff3",
   "metadata": {},
   "source": [
    "# Strutture dati + algoritmi = software\n",
    "## il progetto di uno shopping wizard\n",
    "C'è un  testo sacro dell'informatica degli anni '70 che si chiama \"Algorithms + Data Structures = Programs\". Ovvero, un programma non è niente altro che un algoritmo + delle strutture dati. \n",
    "Il software è scritto per risolvere o aiutare a risolvere un qualche problema.\n",
    "Ad esempio, se vogliamo scrivere un software, lo \"shoppig wiwzard\", per aiutarci nello shopping durante i saldi di che cosa abbiamo bisogno?\n",
    "Ricordate \"strutture dati + algoritmo = software\". \n",
    "\n",
    "Cominciamo dai dati!\n",
    "I dati, quando ne facciamo un uso temporaneo, sono memorizzati in contenitori creati nella memoria volatile del vostro computer chiamati variabili  sono invece memorizzati in file o data base quando vogliamo che i dati persistano all'esecuzione corrente del software.\n",
    "\n",
    "# Variabili\n",
    "Nelle variabili mettiamo quei dati che sono utili per le elaborazioni correnti e i risultati delle elaborazioni. Ad esempio nel caso dello Shopping wizard abbiamo bisogno di memorizzare il nome del oggetto che vogliamo valutare per l'acquisto. In Python è semplicemente una questione di usare la fantasia per dare il nome ad una variabile, un contenitore in memoria, e poi inizializzarla con un contenuto.\n",
    "> **Attenzione:** la scelta dei nomi delle variabili è un importante strumento di documentazione del software. Quanto più significativo è il nome assegnato ad una variabile tanto più semplice sarà comprendere il codice dove questa è usata.\n"
   ]
  },
  {
   "cell_type": "code",
   "execution_count": 1,
   "id": "421ad713",
   "metadata": {},
   "outputs": [],
   "source": [
    "oggettoInVendita = \"giacca rosa\""
   ]
  },
  {
   "cell_type": "markdown",
   "id": "a82b550f",
   "metadata": {},
   "source": [
    "Poi abbiamo bisogno di una variabile per contenere il prezzo pieno, una per lo sconto percentuale, una per contenere lo sconto ottenibile e una per il prezzo scontato."
   ]
  },
  {
   "cell_type": "code",
   "execution_count": 2,
   "id": "4523e720",
   "metadata": {},
   "outputs": [
    {
     "ename": "SyntaxError",
     "evalue": "invalid syntax (Temp/ipykernel_13740/3778182740.py, line 3)",
     "output_type": "error",
     "traceback": [
      "\u001b[1;36m  File \u001b[1;32m\"C:\\Users\\LCAPIT~1\\AppData\\Local\\Temp/ipykernel_13740/3778182740.py\"\u001b[1;36m, line \u001b[1;32m3\u001b[0m\n\u001b[1;33m    sconto = ?\u001b[0m\n\u001b[1;37m             ^\u001b[0m\n\u001b[1;31mSyntaxError\u001b[0m\u001b[1;31m:\u001b[0m invalid syntax\n"
     ]
    }
   ],
   "source": [
    "prezzoPieno = 170\n",
    "scontoPerc = 40\n",
    "sconto = ?\n",
    "prezzoFinito = ?"
   ]
  },
  {
   "cell_type": "markdown",
   "id": "48c3ea43",
   "metadata": {},
   "source": [
    "Adesso dobbiamo solo inserire le formule per calcolare le due grandezze ancora incognite: lo sconto e il prezzoFinito.\n",
    "Ovvero, dobbiamo aggiungere alle strutture dati l'algoritmo.\n",
    "Ma questo lo facciamo insieme...."
   ]
  },
  {
   "cell_type": "code",
   "execution_count": 6,
   "id": "446e6c70",
   "metadata": {},
   "outputs": [
    {
     "name": "stdout",
     "output_type": "stream",
     "text": [
      "Stai valutando l'acquisto di >|  giacca rosa  |\n",
      "\n",
      "giacca rosa  costa  170  €\n",
      "\n",
      "Il negoziante applica uno sconto del  40 %\n",
      "\n",
      "Lo sconto sarebbe di  68.0 €\n",
      "\n",
      "Il prezzo finito è quindi pari a  102.0 €\n",
      "\n"
     ]
    }
   ],
   "source": [
    "print(\"Stai valutando l'acquisto di >| \",oggettoInVendita,\" |\\n\" )\n",
    "print(oggettoInVendita,\" costa \", prezzoPieno, \" €\\n\" )\n",
    "print(\"Il negoziante applica uno sconto del \" ,scontoPerc, \"%\\n\" )\n",
    "print(\"Lo sconto sarebbe di \" ,sconto, \"€\\n\" )\n",
    "print(\"Il prezzo finito è quindi pari a \" ,prezzoFinito, \"€\\n\" )\n",
    "\n"
   ]
  },
  {
   "cell_type": "markdown",
   "id": "6da94c3f",
   "metadata": {},
   "source": [
    "## Tipi di variabili\n",
    "\n",
    "Ma, cosa si può memorizzare in una variabile?\n",
    "- Numbers\n",
    "- String\n",
    "- List\n",
    "- Tuple\n",
    "- Dictionary\n",
    "\n",
    "Fin qui, abbiamo memorizzato nelle variabili Python delle stringhe/testi (il nome dell'oggetto in vendita) e dei numeri (i prezzi e le percentuali).\n",
    "\n",
    "### List\n",
    "\n",
    "Una lista è una lista di valori di qualunque tipo separati da virgole racchiusa da parentesi quadre \"[]\".\n",
    "Semplice no?"
   ]
  },
  {
   "cell_type": "code",
   "execution_count": 19,
   "id": "48b22f99",
   "metadata": {},
   "outputs": [],
   "source": [
    "listaDesideri = [\"Laboratorio Informatica\", 280000000, \"EURO\", [\"Computer quantistico\", \"Villa in California\"], \"Viaggio sulla Luna\"]\n",
    "listaDesideriPiccola = [\"Gioia\",\"Salute\"]"
   ]
  },
  {
   "cell_type": "markdown",
   "id": "1a25a155",
   "metadata": {},
   "source": [
    "Per accedere ad uno o più dei valori contenuti nella lista basta conoscerne la posizione e indicarla"
   ]
  },
  {
   "cell_type": "code",
   "execution_count": 13,
   "id": "e8098a9b",
   "metadata": {},
   "outputs": [
    {
     "name": "stdout",
     "output_type": "stream",
     "text": [
      "['Laboratorio Informatica', 280000000, 'EURO', ['Computer quantistico', 'Villa in California'], 'Viaggio sulla Luna']\n",
      "Laboratorio Informatica\n",
      "[280000000, 'EURO']\n",
      "['EURO', ['Computer quantistico', 'Villa in California'], 'Viaggio sulla Luna']\n",
      "['Gioia', 'Salute', 'Gioia', 'Salute']\n",
      "['Laboratorio Informatica', 280000000, 'EURO', ['Computer quantistico', 'Villa in California'], 'Viaggio sulla Luna', 'Gioia', 'Salute']\n"
     ]
    }
   ],
   "source": [
    "print (listaDesideri)          # Stampa tutta la listaDesideri\n",
    "print (listaDesideri[0])       # Stampa il primo elemento della listaDesideri\n",
    "print (listaDesideri[1:3])     # Stampa gli elementi da 1 a 3 della listaDesideri\n",
    "print (listaDesideri[2:])      # Stampa gli elementi dal terzo in poi della listaDesideri\n",
    "print (listaDesideriPiccola * 2)  # Stampa due volte la listaDesideri\n",
    "print (listaDesideri + listaDesideriPiccola) # Stampa la concatenazione della listaDesideri e lista desideriPiccola"
   ]
  },
  {
   "cell_type": "markdown",
   "id": "73b67824",
   "metadata": {},
   "source": [
    "### Tuple\n",
    "\n",
    "Anche le Tuple sono liste di valori di qualunqu tipo separate da virgole ma sono racchiuse in parentesi tonde \"()\".\n",
    "Somigliano molto alle liste. Ma, a differenza di queste ultime, le tuple una volta create non possono essere modificate."
   ]
  },
  {
   "cell_type": "code",
   "execution_count": 14,
   "id": "77f4f0f7",
   "metadata": {},
   "outputs": [],
   "source": [
    "desideriPiccoli = (\"Gioia\",\"Salute\")"
   ]
  },
  {
   "cell_type": "code",
   "execution_count": 15,
   "id": "e7eb1755",
   "metadata": {},
   "outputs": [
    {
     "name": "stdout",
     "output_type": "stream",
     "text": [
      "Gioia\n"
     ]
    }
   ],
   "source": [
    "print(desideriPiccoli[0])"
   ]
  },
  {
   "cell_type": "code",
   "execution_count": 20,
   "id": "b870fabe",
   "metadata": {},
   "outputs": [
    {
     "name": "stdout",
     "output_type": "stream",
     "text": [
      "['Gioia', 'Salute']\n",
      "['Felicità', 'Salute']\n"
     ]
    }
   ],
   "source": [
    "print(listaDesideriPiccola)\n",
    "listaDesideriPiccola[0] = \"Felicità\"\n",
    "print(listaDesideriPiccola)"
   ]
  },
  {
   "cell_type": "code",
   "execution_count": 16,
   "id": "0b323238",
   "metadata": {},
   "outputs": [
    {
     "ename": "TypeError",
     "evalue": "'tuple' object does not support item assignment",
     "output_type": "error",
     "traceback": [
      "\u001b[1;31m---------------------------------------------------------------------------\u001b[0m",
      "\u001b[1;31mTypeError\u001b[0m                                 Traceback (most recent call last)",
      "\u001b[1;32mC:\\Users\\LCAPIT~1\\AppData\\Local\\Temp/ipykernel_13740/2907278282.py\u001b[0m in \u001b[0;36m<module>\u001b[1;34m\u001b[0m\n\u001b[1;32m----> 1\u001b[1;33m \u001b[0mdesideriPiccoli\u001b[0m\u001b[1;33m[\u001b[0m\u001b[1;36m0\u001b[0m\u001b[1;33m]\u001b[0m \u001b[1;33m=\u001b[0m \u001b[1;34m\"Felicità\"\u001b[0m\u001b[1;33m\u001b[0m\u001b[1;33m\u001b[0m\u001b[0m\n\u001b[0m",
      "\u001b[1;31mTypeError\u001b[0m: 'tuple' object does not support item assignment"
     ]
    }
   ],
   "source": [
    "desideriPiccoli[0] = \"Felicità\""
   ]
  },
  {
   "cell_type": "markdown",
   "id": "3796fe85",
   "metadata": {},
   "source": [
    "### Dictionary\n",
    "\n",
    "I dizionari sono un tipo di dato molto potente che consente di memorizzare elenchi di coppie (chiave, valori). Dove sia la chiave che il valore possono essere di qualunque tipo. Anche se, in genere, la chiave è una stringa o un numero. Mentre, il valore è un qualunque tipo di Python.\n",
    "Sintatticamente sono liste di coppie chiave: valore separate da virgole e racchiuse in parentesi graffe \"{}\""
   ]
  },
  {
   "cell_type": "code",
   "execution_count": 24,
   "id": "130bf480",
   "metadata": {},
   "outputs": [
    {
     "name": "stdout",
     "output_type": "stream",
     "text": [
      "{'nome': 'Mario', 'cognome': 'Rossi', 'matricola': '0145673', 'corso': 'LaboratorioAI-A'}\n",
      "Lo studente frequenta il corso  LaboratorioAI-A\n"
     ]
    }
   ],
   "source": [
    "studente1 = {\"nome\": \"Mario\", \"cognome\": \"Rossi\", \"matricola\": \"0145673\", \"corso\": \"LaboratorioAI-A\"}\n",
    "studente2 = {\"nome\": \"Gianni\", \"cognome\": \"Verdi\", \"matricola\": \"0145476\", \"corso\": \"Diritto Privato\"}\n",
    "print(studente1)\n",
    "print(\"Lo studente frequenta il corso \", studente1[\"corso\"])"
   ]
  },
  {
   "cell_type": "code",
   "execution_count": 28,
   "id": "21405d95",
   "metadata": {},
   "outputs": [
    {
     "name": "stdout",
     "output_type": "stream",
     "text": [
      "{'0145673': {'nome': 'Mario', 'cognome': 'Rossi', 'matricola': '0145673', 'corso': 'LaboratorioAI-A'}, '0145476': {'nome': 'Gianni', 'cognome': 'Verdi', 'matricola': '0145476', 'corso': 'Diritto Privato'}}\n",
      "Lo studente di matricola  0145476  : \n",
      " {'nome': 'Gianni', 'cognome': 'Verdi', 'matricola': '0145476', 'corso': 'Diritto Privato'}\n"
     ]
    }
   ],
   "source": [
    "studenti = {\"0145673\": studente1, \"0145476\": studente2}\n",
    "print(studenti)\n",
    "\n",
    "print(\"Lo studente di matricola \", \"0145476\", \" : \\n\",  studenti[\"0145476\"])"
   ]
  }
 ],
 "metadata": {
  "interpreter": {
   "hash": "81794d4967e6c3204c66dcd87b604927b115b27c00565d3d43f05ba2f3a2cb0d"
  },
  "kernelspec": {
   "display_name": "Python 3.9.5 64-bit",
   "language": "python",
   "name": "python3"
  },
  "language_info": {
   "codemirror_mode": {
    "name": "ipython",
    "version": 3
   },
   "file_extension": ".py",
   "mimetype": "text/x-python",
   "name": "python",
   "nbconvert_exporter": "python",
   "pygments_lexer": "ipython3",
   "version": "3.9.5"
  }
 },
 "nbformat": 4,
 "nbformat_minor": 5
}
