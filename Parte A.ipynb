{
 "cells": [
  {
   "cell_type": "markdown",
   "id": "e5d56450",
   "metadata": {},
   "source": [
    "<a href=\"https://colab.research.google.com/github/capitanio/introduzionePythonsuJupyter/blob/master/Parte A.ipynb\"><img align=\"left\" src=\"https://colab.research.google.com/assets/colab-badge.svg\" alt=\"Open in Colab\" title=\"Open and Execute in Google Colaboratory\"></a>"
   ]
  },
  {
   "cell_type": "markdown",
   "id": "5afe334e",
   "metadata": {},
   "source": [
    "# Premessa\n",
    "\n",
    "Questa è la parte A di una breve introduzione a Python scritta per gli studenti del corso di Intelligenza Artificiale della Facoltà di Giurisprudenza della LUISS.\n",
    "L'autore ha cercato di semplificare il più possibile i contenuti tecnici per consentire la sua lettura anche a studenti di formazione umanistica.\n",
    "\n",
    "Il corso è scritto in [Jupiter Notebook](http://jupyter.org/), un formato di documento che consente di mescolare parti di testo con frammenti di codice sorgente scritti con uno dei tanti linguaggi di programmazione supportati. In questo caso, il linguaggio di programmazione usato è Python nella versione 3.x.\n",
    "\n",
    "Tutto il corso può essere fruito direttamente sulla piattaforma colab di Google usandpo il pulsante \"Open in Colab\" in alto a sinistra.\n",
    "\n",
    "Un notebook Juputer è composto da una lista di blocchi di testo alfanumerico detti celle. Una cella può essere di tipo \"Codice\" e contenere frammenti di codice sorgente o di tipo \"Markdown\" e contenere testi scritti nel linguaggio [Markdown](https://www.markdownguide.org/basic-syntax/) come quella che lei sta leggendo adesso.\n",
    "\n",
    "Le celle di Codice possono essere eseguite click-ando sul tasto \"play\" (triangolo bianco posto alla sinistra della cella con un vertice che punta verso destra) che appare quando si muove il mouse sulla cella.\n",
    "\n",
    "\n",
    "\n",
    "Ad esempio, per poter fruire dei conte"
   ]
  },
  {
   "cell_type": "code",
   "execution_count": 14,
   "id": "9cfa2c11",
   "metadata": {},
   "outputs": [],
   "source": [
    "from matplotlib import pyplot as plt\n",
    "import  numpy as np\n",
    "from IPython.display import Image\n"
   ]
  },
  {
   "cell_type": "code",
   "execution_count": 29,
   "id": "9735cd77",
   "metadata": {},
   "outputs": [
    {
     "name": "stdout",
     "output_type": "stream",
     "text": [
      "Writing diagrams/block_diagram\n"
     ]
    }
   ],
   "source": [
    "%%file diagrams/block_diagram\n",
    "blockdiag {\n",
    "  Input -> Software -> Output;\n",
    "}"
   ]
  },
  {
   "cell_type": "code",
   "execution_count": 30,
   "id": "2cd7ded7",
   "metadata": {},
   "outputs": [],
   "source": [
    "!blockdiag diagrams/block_diagram"
   ]
  },
  {
   "cell_type": "markdown",
   "id": "0ef41ff3",
   "metadata": {},
   "source": [
    "# Strutture dati + algoritmi = software\n",
    "\n",
    "Il titolo di un testo sacro dell'informatica degli anni '70 recitava [\"Algorithms + Data Structures = Programs\"](https://www.abebooks.com/book-search/title/algorithms-data-structures-programs/author/niklaus-wirth/). Ovvero, un programma (un software) è la somma o l'unione di un algoritmo + una o più strutture dati.\n",
    "\n",
    "Il software è scritto per risolvere o aiutare a risolvere un qualche problema applicativo.\n",
    "\n",
    "Ad esempio, se volessimo scrivere un software, che potremmo chiamare il \"CV Wizard\" per aiutarci nella gestione del CV Universitario, di che cosa abbiamo bisogno?\n",
    "\n",
    "La risposta è \"strutture dati + algoritmo\"\n",
    "\n",
    "## I dati\n",
    "\n",
    "Un qualunque problema applicativo è caratterizzato dal trattamento di informazioni di ingresso per ottenere delle informazioni di uscita.\n",
    "\n",
    "![input - software - output](diagrams/block_diagram.png)\n",
    "\n",
    "Se vogliamo risolvere un problema applicativo abbiamo bisogno di acquisire informazioni, elaborarle e quindi fornire in uscita le informazioni elaborate.\n",
    "\n",
    "I calcolatroi elettronici non sono in grado di trattare direttamente le informazioni del mondo reale e analogico che caratterizzano un problema applicativo. Ad esempio, un calcolatore non è in grado di elaborare una informazione come un testo, un suono o un' immagine se queste non vengono prima trasformate in dati numerici e, per giunta, binari.\n",
    "\n",
    "Per trasformare una informazione in un dato numerico si usano dei codificatori hardware e software che trasformano l'informazione analogica in codici numerici o dati che rappresentano l'informazione da trattare all'interno della memoria del calcolatore.\n",
    "\n",
    "I dati possono essere conservati nei calcolatori per il solo tempo necessario a delle elaborazioni oppure conservati per medio lungo termine se vogliamo che essi persistano dopo l'esecuzione del software. Nel primo caso essi sono memorizzati in aree nella memoria volatile, la RAM (Random Access Memory) del vostro computer chiamate \"variabili\". Nel secondo caso essi sono memorizzati in aree della memoria di massa del votro computer in file o data base.\n",
    "\n",
    "# Variabili\n",
    "\n",
    "Nelle variabili mettiamo quei dati che sono utili per le elaborazioni correnti e i risultati delle elaborazioni. Ad esempio, nel caso del \"CV Wizard\" potremmo avere bisogno delle seguenti variabili:\n",
    "\n",
    "- nomeStudente\n",
    "- nomeUniversita\n",
    "- nomeCorsoLaurea\n",
    "- numeroEsami\n",
    "- nomeEsame\n",
    "- votoEsame\n",
    "- numeroEsamiSostenuti\n",
    "- mediaVoti\n",
    "- ...\n",
    "\n",
    "Ogni variabile deve avere un nome e può contenere un certo tipo di dato.\n",
    "In Python i nomi di variabili possono contenereè semplicemente una questione di usare la fantasia per dare il nome ad una variabile, un contenitore in memoria, e poi inizializzarla con un contenuto.\n",
    "> **Attenzione:** la scelta dei nomi delle variabili è un importante strumento di documentazione del software. Quanto più significativo è il nome assegnato ad una variabile tanto più semplice sarà comprendere a cosa serve il codice dove questa è usata.\n",
    "\n"
   ]
  },
  {
   "cell_type": "code",
   "execution_count": 1,
   "id": "421ad713",
   "metadata": {},
   "outputs": [],
   "source": [
    "nomeStudente = \"Mario\"\n",
    "nomeUniversita = \"LUISS\"\n",
    "nomeCorsoLaurea = \"Giurisprudenza\"\n",
    "nomeEsame = \"Intelligenza Artificiale\""
   ]
  },
  {
   "cell_type": "markdown",
   "id": "a82b550f",
   "metadata": {},
   "source": [
    "Poi abbiamo bisogno di una variabile per contenere il voto dell' ultimo esame e una per contenere il numero di esami del corso di laurea, ... ."
   ]
  },
  {
   "cell_type": "code",
   "execution_count": 32,
   "id": "4523e720",
   "metadata": {},
   "outputs": [],
   "source": [
    "votoEsame = 29\n",
    "numeroEsamiSostenuti = 5"
   ]
  },
  {
   "cell_type": "markdown",
   "id": "6da94c3f",
   "metadata": {},
   "source": [
    "## Tipi di variabili\n",
    "\n",
    "Ma, cosa si può memorizzare in una variabile?\n",
    "- Numbers\n",
    "- String\n",
    "- List\n",
    "- Tuple\n",
    "- Dictionary\n",
    "\n",
    "Fin qui, abbiamo memorizzato nelle variabili Python delle stringhe/testi (il nome dell'oggetto in vendita) e dei numeri (i prezzi e le percentuali).\n",
    "\n",
    "### List\n",
    "\n",
    "Una lista è una lista di valori di qualunque tipo separati da virgole racchiusa da parentesi quadre \"[]\".\n",
    "Semplice no?"
   ]
  },
  {
   "cell_type": "code",
   "execution_count": 33,
   "id": "48b22f99",
   "metadata": {},
   "outputs": [],
   "source": [
    "listaDesideri = [\"Laboratorio Informatica\", 280000000, \"EURO\", [\"Computer quantistico\", \"Villa in California\"], \"Viaggio sulla Luna\"]\n",
    "listaDesideriImportanti = [\"Gioia\",\"Salute\"]"
   ]
  },
  {
   "cell_type": "markdown",
   "id": "1a25a155",
   "metadata": {},
   "source": [
    "Per accedere ad uno o più dei valori contenuti nella lista basta conoscerne la posizione e indicarla"
   ]
  },
  {
   "cell_type": "code",
   "execution_count": 35,
   "id": "e8098a9b",
   "metadata": {},
   "outputs": [
    {
     "name": "stdout",
     "output_type": "stream",
     "text": [
      "['Laboratorio Informatica', 280000000, 'EURO', ['Computer quantistico', 'Villa in California'], 'Viaggio sulla Luna']\n",
      "Laboratorio Informatica\n",
      "[280000000, 'EURO']\n",
      "['EURO', ['Computer quantistico', 'Villa in California'], 'Viaggio sulla Luna']\n",
      "['Gioia', 'Salute', 'Gioia', 'Salute']\n",
      "['Laboratorio Informatica', 280000000, 'EURO', ['Computer quantistico', 'Villa in California'], 'Viaggio sulla Luna', 'Gioia', 'Salute']\n"
     ]
    }
   ],
   "source": [
    "print (listaDesideri)          # Stampa tutta la listaDesideri\n",
    "print (listaDesideri[0])       # Stampa il primo elemento della listaDesideri\n",
    "print (listaDesideri[1:3])     # Stampa gli elementi da 1 a 3 della listaDesideri\n",
    "print (listaDesideri[2:])      # Stampa gli elementi dal terzo in poi della listaDesideri\n",
    "print (listaDesideriImportanti * 2)  # Stampa due volte la listaDesideri\n",
    "print (listaDesideri + listaDesideriImportanti) # Stampa la concatenazione della listaDesideri e lista desideriPiccola"
   ]
  },
  {
   "cell_type": "markdown",
   "id": "73b67824",
   "metadata": {},
   "source": [
    "### Tuple\n",
    "\n",
    "Anche le Tuple sono liste di valori di qualunqu tipo separate da virgole ma sono racchiuse in parentesi tonde \"()\".\n",
    "Somigliano molto alle liste. Ma, a differenza di queste ultime, le tuple una volta create non possono essere modificate."
   ]
  },
  {
   "cell_type": "code",
   "execution_count": 14,
   "id": "77f4f0f7",
   "metadata": {},
   "outputs": [],
   "source": [
    "desideriPiccoli = (\"Gioia\",\"Salute\")"
   ]
  },
  {
   "cell_type": "code",
   "execution_count": 15,
   "id": "e7eb1755",
   "metadata": {},
   "outputs": [
    {
     "name": "stdout",
     "output_type": "stream",
     "text": [
      "Gioia\n"
     ]
    }
   ],
   "source": [
    "print(desideriPiccoli[0])"
   ]
  },
  {
   "cell_type": "code",
   "execution_count": 20,
   "id": "b870fabe",
   "metadata": {},
   "outputs": [
    {
     "name": "stdout",
     "output_type": "stream",
     "text": [
      "['Gioia', 'Salute']\n",
      "['Felicità', 'Salute']\n"
     ]
    }
   ],
   "source": [
    "print(listaDesideriPiccola)\n",
    "listaDesideriPiccola[0] = \"Felicità\"\n",
    "print(listaDesideriPiccola)"
   ]
  },
  {
   "cell_type": "code",
   "execution_count": 16,
   "id": "0b323238",
   "metadata": {},
   "outputs": [
    {
     "ename": "TypeError",
     "evalue": "'tuple' object does not support item assignment",
     "output_type": "error",
     "traceback": [
      "\u001b[1;31m---------------------------------------------------------------------------\u001b[0m",
      "\u001b[1;31mTypeError\u001b[0m                                 Traceback (most recent call last)",
      "\u001b[1;32mC:\\Users\\LCAPIT~1\\AppData\\Local\\Temp/ipykernel_13740/2907278282.py\u001b[0m in \u001b[0;36m<module>\u001b[1;34m\u001b[0m\n\u001b[1;32m----> 1\u001b[1;33m \u001b[0mdesideriPiccoli\u001b[0m\u001b[1;33m[\u001b[0m\u001b[1;36m0\u001b[0m\u001b[1;33m]\u001b[0m \u001b[1;33m=\u001b[0m \u001b[1;34m\"Felicità\"\u001b[0m\u001b[1;33m\u001b[0m\u001b[1;33m\u001b[0m\u001b[0m\n\u001b[0m",
      "\u001b[1;31mTypeError\u001b[0m: 'tuple' object does not support item assignment"
     ]
    }
   ],
   "source": [
    "desideriPiccoli[0] = \"Felicità\""
   ]
  },
  {
   "cell_type": "markdown",
   "id": "3796fe85",
   "metadata": {},
   "source": [
    "### Dictionary\n",
    "\n",
    "I dizionari sono un tipo di dato molto potente che consente di memorizzare elenchi di coppie (chiave, valori). Dove sia la chiave che il valore possono essere di qualunque tipo. Anche se, in genere, la chiave è una stringa o un numero. Mentre, il valore è un qualunque tipo di Python.\n",
    "Sintatticamente sono liste di coppie chiave: valore separate da virgole e racchiuse in parentesi graffe \"{}\""
   ]
  },
  {
   "cell_type": "code",
   "execution_count": 24,
   "id": "130bf480",
   "metadata": {},
   "outputs": [
    {
     "name": "stdout",
     "output_type": "stream",
     "text": [
      "{'nome': 'Mario', 'cognome': 'Rossi', 'matricola': '0145673', 'corso': 'LaboratorioAI-A'}\n",
      "Lo studente frequenta il corso  LaboratorioAI-A\n"
     ]
    }
   ],
   "source": [
    "studente1 = {\"nome\": \"Mario\", \"cognome\": \"Rossi\", \"matricola\": \"0145673\", \"corso\": \"LaboratorioAI-A\"}\n",
    "studente2 = {\"nome\": \"Gianni\", \"cognome\": \"Verdi\", \"matricola\": \"0145476\", \"corso\": \"Diritto Privato\"}\n",
    "print(studente1)\n",
    "print(\"Lo studente frequenta il corso \", studente1[\"corso\"])"
   ]
  },
  {
   "cell_type": "code",
   "execution_count": 28,
   "id": "21405d95",
   "metadata": {},
   "outputs": [
    {
     "name": "stdout",
     "output_type": "stream",
     "text": [
      "{'0145673': {'nome': 'Mario', 'cognome': 'Rossi', 'matricola': '0145673', 'corso': 'LaboratorioAI-A'}, '0145476': {'nome': 'Gianni', 'cognome': 'Verdi', 'matricola': '0145476', 'corso': 'Diritto Privato'}}\n",
      "Lo studente di matricola  0145476  : \n",
      " {'nome': 'Gianni', 'cognome': 'Verdi', 'matricola': '0145476', 'corso': 'Diritto Privato'}\n"
     ]
    }
   ],
   "source": [
    "studenti = {\"0145673\": studente1, \"0145476\": studente2}\n",
    "print(studenti)\n",
    "\n",
    "print(\"Lo studente di matricola \", \"0145476\", \" : \\n\",  studenti[\"0145476\"])"
   ]
  }
 ],
 "metadata": {
  "kernelspec": {
   "display_name": "Python 3.9.13 64-bit (microsoft store)",
   "language": "python",
   "name": "python3"
  },
  "language_info": {
   "codemirror_mode": {
    "name": "ipython",
    "version": 3
   },
   "file_extension": ".py",
   "mimetype": "text/x-python",
   "name": "python",
   "nbconvert_exporter": "python",
   "pygments_lexer": "ipython3",
   "version": "3.9.13"
  },
  "vscode": {
   "interpreter": {
    "hash": "b62038c88d86df113664c67e0595a7e5d5857d9b34442a8f39dffa4462ab8f77"
   }
  }
 },
 "nbformat": 4,
 "nbformat_minor": 5
}
