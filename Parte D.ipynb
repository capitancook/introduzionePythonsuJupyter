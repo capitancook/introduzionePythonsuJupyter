{
 "cells": [
  {
   "cell_type": "markdown",
   "metadata": {},
   "source": [
    "# Il flusso di esecuzione\n",
    "\n",
    "Fino a questo punto il codice Python che abbiamo scritto insieme ha una struttura lineare:\n",
    "\n",
    "    istr1\n",
    "    istr2\n",
    "    ...\n",
    "    istrN\n",
    "In generale, non sempre il nostro codice ha una struttura lineare. Spesso abbiamo bisogno di \"deviare\" dal normale flusso lineare per diversi motivi:\n",
    "\n",
    "-  Come risposta a un input dell'utente;\n",
    "-  Come reazione ad una variazione di una grandezza misurata;\n",
    "-  Come effetto del risultato di un calcolo;\n",
    "-  Per eseguire N volte una determinata operazione;\n",
    "-  Per eseguire più volte una determinata operazione fino al verificarsi di una qualche codizione;\n",
    "-  Per eseguire una stessa operazione su una \"collezione\" di oggetti. \n",
    "-  ...\n"
   ]
  },
  {
   "cell_type": "markdown",
   "metadata": {},
   "source": [
    "## Vero, Falso, gli operatori di confronto, i predicati e l'algebra dei valori logici\n",
    "\n",
    "Un tipo di dato che non abbiamo visto fin qui sono i valori logici True e False (Vero e Falso).\n",
    "I valori logici possono essere delle costanti o il risultato di un predicato.\n",
    "Ad esempio, immaginiamo di memorizzare le previsioni del tempo nella variabile **previsioni**: \n",
    "\n",
    "    previsioni = \"Sole\"\n",
    "\n",
    "Ci domandiamo le previsioni prevedono (sono uguali a) \"Sole\"?\n",
    "\n",
    "    previsioni == \"Sole\""
   ]
  },
  {
   "cell_type": "code",
   "execution_count": null,
   "metadata": {},
   "outputs": [],
   "source": [
    "previsioni = \"Sole\"\n",
    "previsioni == \"Sole\""
   ]
  },
  {
   "cell_type": "markdown",
   "metadata": {},
   "source": [
    "Possiamo creare un piccolo sistema esperto per sapere quali giorni della settimana possiamo andare al mare in base\n",
    "alle nostre disponibilità  e alle previsioni del tempo?\n",
    "\n",
    "Proviamo!\n",
    "\n",
    "Immaginamo, di avere le previsioni del tempo in una lista Python per i 7 giorni della settimana\n",
    "\n",
    "    previsioni = [\"sole\", \"vento\", \"sole\", \"pioggia\", \"sole\", \"nuvoloso\"]\n",
    "\n",
    "In questo esempio le previsioni le ho inserite io a mano ma, come vi ho detto più volte, ottenerle da un sito in tempo reale è una cosa che con Python e la giusta libreria è semplicissimo."
   ]
  },
  {
   "cell_type": "code",
   "execution_count": 57,
   "metadata": {},
   "outputs": [],
   "source": [
    "previsioni = [\"sole\", \"vento\", \"sole\", \"pioggia\", \"sole\", \"nuvoloso\", \"sole\"]\n",
    "giorniSettimana = [\"lunedì\", \"martedì\", \"mercoledì\", \"giovedì\", \"venerdì\", \"sabato\", \"domenica\"]\n"
   ]
  },
  {
   "cell_type": "markdown",
   "metadata": {},
   "source": [
    "Immaginiamo che io vada al mare solo quando c'è il sole :)\n",
    "Adesso vediamo se è True o False che io posso/vado al mare lunedì.\n",
    "Lo possiamo fare semplicemente scrivendo in Python-ese il predicato: \"la previsione di lunedì è uguale a sole?\"\n",
    "usando l'operatore di confronto \"==\" per verificare l'uguaglianza."
   ]
  },
  {
   "cell_type": "code",
   "execution_count": null,
   "metadata": {},
   "outputs": [],
   "source": [
    "previsioni[0] == \"sole\""
   ]
  },
  {
   "cell_type": "markdown",
   "metadata": {},
   "source": [
    "E se invece io andassi al mare con qualunque tempo tranne che quando piove?\n",
    "Possiamo scrivere in Python-ese il predicato: \"La previsione di lunedì è diversa da \"pioggia\"?\"\n",
    "usando l'operatore di confronto \"!=\" per verificare la disuguaglianza."
   ]
  },
  {
   "cell_type": "code",
   "execution_count": null,
   "metadata": {},
   "outputs": [],
   "source": [
    "previsioni[3] != \"pioggia\""
   ]
  },
  {
   "cell_type": "markdown",
   "metadata": {},
   "source": [
    "Riassumendo, gli operatori di confronto sono i seguenti:\n",
    "\n",
    "    == uguale,            Es: 1 == 2 restituisce False\n",
    "\n",
    "    != diverso,           Es: 1 != 2 restituisce True\n",
    "\n",
    "    > maggiore,           Es: 1 > 2 restituisce False\n",
    "\n",
    "    < minore,             Es: 1 < 2 restituisce True\n",
    "\n",
    "    >= maggiore o uguale, Es: 1 >= 2 restituisce False\n",
    "\n",
    "    <= minore o uguale,   Es: 1 <= 1 restituisce True"
   ]
  },
  {
   "cell_type": "markdown",
   "metadata": {},
   "source": [
    "## L' algebra dei valori logici\n",
    "\n",
    "Quando costruiamo un predicato, abbiamo spesso bisogno di combinare logicamente più valori logici.\n",
    "Ad esempio, se io volessi essere un po' più elastico nel mio criterio per decidere se andare al mare o meno e \n",
    "volessi esprimere in Python-ese il predicato \"La previsione di sabato è uguale a \"sole\" oppure \"nuvoloso\"?\".\n",
    "Beh, dovrei usare la congiunzione \"o\".\n",
    "Tradotto in Pythonese, implica l'uso dell'operatore logico \"or\" :"
   ]
  },
  {
   "cell_type": "code",
   "execution_count": null,
   "metadata": {},
   "outputs": [],
   "source": [
    "(previsioni[5] == \"sole\") or (previsioni[5] == \"nuvoloso\")"
   ]
  },
  {
   "cell_type": "markdown",
   "metadata": {},
   "source": [
    "Riassumendo gli operatori logici in Python sono i seguenti:\n",
    "\n",
    "- and \t# Restituisce True solo se entrambi gli operandi sono True, False altrimenti\t\n",
    "- or\t# Restituisce True se almeno uno degli operandi è True, se sono entrambi False restituisce False\t\n",
    "- not\t# Restituisce True se l'operando è False, restituisce False se l'operando è True\t\t\n"
   ]
  },
  {
   "cell_type": "markdown",
   "metadata": {},
   "source": [
    "Vi invito a sperimentare un po' con i valori, gli operatori di confronto e gli operatori logici.\n",
    "Ad esempio, c'è qualcuno che saprebbe scrivere il codice necessario per aggiungere al nostro piccolo sistema esperto per andare al mare la necessità di verificare se la unica macchina di famiglia è disponibile il giorno della settimana di interesse.\n",
    "Si tratta di creare una variabile per contenere la disponibilità della macchina e un predicato che verifichi la regola:\n",
    "\"il giorno x vado al mare se non c'è vento e ho la macchina disponibile\"\n",
    "Buon lavoro.\n",
    "Mandate le risposte a lcapitanio@luiss.it"
   ]
  },
  {
   "cell_type": "markdown",
   "metadata": {},
   "source": [
    "## deviazioni del flusso di esecuzione\n",
    "\n",
    "Come abbiamo già detto, spesso l'esecuzione del programma deve deviare dal flusso principale in risposta a qualche evento.\n",
    "Ad esempio, nel codice del Bancomat che verifica se l'importo che si vuole prelevare è disponibile sul proprio conto corrente. Usando un pseudo linguaggio di programmazione possiamo descrivere l'algoritmo così:\n",
    "\n",
    "    se (saldo - importoPrelievo) > 0 allora \n",
    "        fornisci(importoPrelievo)\n",
    "        saldo = saldo - importoPrelievo\n",
    "        restituisciTesserino()\n",
    "    altrimenti \n",
    "        stampaAvvertimento(\"Spiacente importo non disponibile. Rivolgersi al proprio istituto bancario\")\n",
    "        restituisciTesserino()\n",
    "    fine\n",
    "\n",
    "In Python-ese abbiamo"
   ]
  },
  {
   "cell_type": "code",
   "execution_count": null,
   "metadata": {},
   "outputs": [],
   "source": [
    "import jupyter_beeper\n",
    "\n",
    "b = jupyter_beeper.Beeper()\n",
    "\n",
    "\n",
    "def fornisciImporto(n):\n",
    "    print(\"importo di \", n, \" EURO in erogazione\")\n",
    "\n",
    "def stampaAvvertimento(m):\n",
    "    b.beep(frequency=1100, secs=1.0, blocking=True)\n",
    "    print(m)\n",
    "\n",
    "def restituisciTesserino():\n",
    "    print(\"hai 30 secondi per ritirare il tesserino ...\")\n",
    "\n",
    "saldo = 1000\n",
    "importoPrelievo = 200\n",
    "if importoPrelievo <= saldo:\n",
    "    fornisciImporto(importoPrelievo)\n",
    "    saldo = saldo - importoPrelievo\n",
    "    restituisciTesserino()\n",
    "else:\n",
    "    stampaAvvertimento(\"Spiacente importo non disponibile. Rivolgersi al proprio istituto di credito\")\n",
    "    restituisciTesserino()\n",
    "print(\"Il saldo è \", saldo, \"EURO\")"
   ]
  },
  {
   "cell_type": "markdown",
   "metadata": {},
   "source": [
    "## cicli\n",
    "\n",
    "### for\n",
    "\n",
    "Abbiamo spesso bisogno di eseguire più volte la setta operazione.\n",
    "Ad esempio, se volessimo sapere la somma dei primi N numeri interi (e non sapessimo o ricordassimo la formula per calcolarla direttamente :) dovremmo usare un algoritmo come questo:\n",
    "\n",
    "    somma = 0\n",
    "    Per i cha va da 0 a N -1\n",
    "        somma = somma + i\n",
    "    stampa(somma)\n",
    "\n",
    "In Python-ese questo algoritmo si può scrivere in diversi modi. \n",
    "\n",
    "Ad esempio così:"
   ]
  },
  {
   "cell_type": "code",
   "execution_count": 55,
   "metadata": {},
   "outputs": [
    {
     "name": "stdout",
     "output_type": "stream",
     "text": [
      "La somma dei primi  3  numeri è  3\n"
     ]
    }
   ],
   "source": [
    "N = 3\n",
    "somma = 0\n",
    "for i in range(N):\n",
    "    somma = somma + i\n",
    "print(\"La somma dei primi \", N, \" numeri è \", somma)"
   ]
  },
  {
   "cell_type": "markdown",
   "metadata": {},
   "source": [
    "Ad esempio, se volessimo stampare ttti i giorni della settimana che abbiamo inserito nella lista giorniSettimana"
   ]
  },
  {
   "cell_type": "code",
   "execution_count": 60,
   "metadata": {},
   "outputs": [
    {
     "name": "stdout",
     "output_type": "stream",
     "text": [
      "lunedì\n",
      "martedì\n",
      "mercoledì\n",
      "giovedì\n",
      "venerdì\n",
      "sabato\n",
      "domenica\n"
     ]
    }
   ],
   "source": [
    "for giorno in range(7):\n",
    "    print(giorniSettimana[giorno])"
   ]
  },
  {
   "cell_type": "markdown",
   "metadata": {},
   "source": [
    "Oltre ai range numerici possiamo usare una collezione per realizzare un loop di ispezione della stessa.\n",
    "Ovvero se vogliamo stampare i giorni della settimana possiamo scrivere il seguente semplicissimo frammento di Python:"
   ]
  },
  {
   "cell_type": "code",
   "execution_count": 61,
   "metadata": {},
   "outputs": [
    {
     "name": "stdout",
     "output_type": "stream",
     "text": [
      "lunedì\n",
      "martedì\n",
      "mercoledì\n",
      "giovedì\n",
      "venerdì\n",
      "sabato\n",
      "domenica\n"
     ]
    }
   ],
   "source": [
    "for giorno in giorniSettimana:\n",
    "    print(giorno)"
   ]
  },
  {
   "cell_type": "markdown",
   "metadata": {},
   "source": [
    "Bene. Vediamo se sono stato bravo a mostrarvi fin qui come funziona il loop for.\n",
    "Provate a scrivere in Python-ese l'algoritmo per stampare per ogni giorno della settimana se vado al mare o meno usando i predicato:\n",
    "\n",
    "    Il giorno x vado al mare se la previsione del tempo è uguale a \"sole\" oppure \"nuvoloso\"\n",
    "\n",
    "Quindi l'output dovrebbe essere qualcosa del tipo:\n",
    "[\"sole\", \"vento\", \"sole\", \"pioggia\", \"sole\", \"nuvoloso\", \"sole\"]\n",
    "\n",
    "    lunedì vado al mare\n",
    "    martedì non vado al mare\n",
    "    mercoledì vado al mare\n",
    "    giovedì non vado al mare\n",
    "    venerdì vado la mare\n",
    "    sabato vado la mare\n",
    "    domenica vado la mare\n",
    "\n",
    "Mandatemi via email a lcapitanio@luiss.it il vostro lavoro. Subito! :)"
   ]
  },
  {
   "cell_type": "markdown",
   "metadata": {},
   "source": [
    "### while\n",
    "\n",
    "Capita spesso di dover ripeter la stessa operazione per un numero indefinito di volte, anche infinito.\n",
    "In questi casi si usano i loop while.\n",
    "Ad esempio, immaginiamo di chiedere al nostro utente una parola segreta per entrare in una stanza, programma, gioco, ..\n",
    "Se non inserisce la parola giusta ripetiamo la richiesta. Giusto.\n",
    "L'algoritmo è il seguente:\n",
    "\n",
    "    parolaDordine = \"pippo\"\n",
    "    risposta =\"\"\n",
    "    mentre risposta != parolaDordine\n",
    "        risposta = input(\"digita la parola d'ordine -->\")\n",
    "    stampa(\"Benvenuto!\")"
   ]
  },
  {
   "cell_type": "code",
   "execution_count": 62,
   "metadata": {},
   "outputs": [
    {
     "name": "stdout",
     "output_type": "stream",
     "text": [
      "Benvenuto!\n"
     ]
    }
   ],
   "source": [
    "parolaDordine = \"pippo\"\n",
    "risposta =\"\"\n",
    "while risposta != parolaDordine:\n",
    "    risposta = input(\"digita la parola d'ordine -->\")\n",
    "print(\"Benvenuto!\")"
   ]
  },
  {
   "cell_type": "markdown",
   "metadata": {},
   "source": [
    "Il while si può usare anche per fare dei cicli predeterminati come il for.\n",
    "Ad esempio"
   ]
  },
  {
   "cell_type": "code",
   "execution_count": null,
   "metadata": {},
   "outputs": [],
   "source": [
    "for giorno in range(7):\n",
    "    print(giorniSettimana[giorno])"
   ]
  },
  {
   "cell_type": "markdown",
   "metadata": {},
   "source": [
    "Si può scrivere come"
   ]
  },
  {
   "cell_type": "code",
   "execution_count": 66,
   "metadata": {},
   "outputs": [
    {
     "name": "stdout",
     "output_type": "stream",
     "text": [
      "lunedì\n",
      "martedì\n",
      "mercoledì\n",
      "giovedì\n",
      "venerdì\n",
      "sabato\n",
      "domenica\n"
     ]
    }
   ],
   "source": [
    "giorno = 0\n",
    "while giorno < 7:\n",
    "    print(giorniSettimana[giorno])\n",
    "    giorno = giorno + 1"
   ]
  },
  {
   "cell_type": "markdown",
   "metadata": {},
   "source": [
    "Ovviamente, non siamo riusciti a coprire completamente le basi del Python.\n",
    "Per uno studio più approfondito vi invito a leggere il testo open \"Thinking in Python\"  tradotto in Italiano che trovate su learn.luiss.it e consultare la documentazione ufficiale di Python sul sito https://docs.python.org/3/"
   ]
  }
 ],
 "metadata": {
  "kernelspec": {
   "display_name": "Python 3.9.5 64-bit",
   "language": "python",
   "name": "python3"
  },
  "language_info": {
   "codemirror_mode": {
    "name": "ipython",
    "version": 3
   },
   "file_extension": ".py",
   "mimetype": "text/x-python",
   "name": "python",
   "nbconvert_exporter": "python",
   "pygments_lexer": "ipython3",
   "version": "3.9.5"
  },
  "orig_nbformat": 4,
  "vscode": {
   "interpreter": {
    "hash": "81794d4967e6c3204c66dcd87b604927b115b27c00565d3d43f05ba2f3a2cb0d"
   }
  }
 },
 "nbformat": 4,
 "nbformat_minor": 2
}
