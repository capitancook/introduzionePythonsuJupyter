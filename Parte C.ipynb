{
 "cells": [
  {
   "cell_type": "markdown",
   "metadata": {},
   "source": [
    "# Trattamento di immagini \n",
    "## immagini residenti su memoria di massa\n",
    "### la libreria Pillow\n",
    "\n",
    "Gli oggetti sono utili per memorizzare \"oggetti\" complessi in Python.\n",
    "Ad esempio, possiamo leggere dalla memoria di massa le immagini e immagazzinarle in variabili.\n",
    "Per rendere \"semplice\" la lettura e l'eventuale manipolazione delle immagini possiamo usare la libreria  [Pillow](https://pillow.readthedocs.io/en/stable/)."
   ]
  },
  {
   "cell_type": "code",
   "execution_count": 6,
   "metadata": {},
   "outputs": [],
   "source": [
    "# pip install pillow\n",
    "from PIL import Image"
   ]
  },
  {
   "cell_type": "code",
   "execution_count": 4,
   "metadata": {},
   "outputs": [],
   "source": [
    "img1 = Image.open('1.jpg')\n",
    "# img1"
   ]
  },
  {
   "cell_type": "code",
   "execution_count": 5,
   "metadata": {},
   "outputs": [],
   "source": [
    "img2 = Image.open('2.jpg')\n",
    "# img2"
   ]
  },
  {
   "cell_type": "code",
   "execution_count": 8,
   "metadata": {},
   "outputs": [],
   "source": [
    "img3 = Image.open('3.jpg')\n",
    "# img3"
   ]
  },
  {
   "cell_type": "code",
   "execution_count": 10,
   "metadata": {},
   "outputs": [],
   "source": [
    "img4 = Image.open('4.jpg')\n",
    "# img4"
   ]
  },
  {
   "cell_type": "markdown",
   "metadata": {},
   "source": [
    "### Elaborazione di immagini\n",
    "\n",
    "Nella documentazione della libreria [Pillow](https://pillow.readthedocs.io/en/stable/) trovate un tutorial per usare le funzioni di elaborazione di immagini.\n",
    "Ad esempio, posiamo ruotare le immagini per riportarle in posizione corretta o quasi."
   ]
  },
  {
   "cell_type": "code",
   "execution_count": 14,
   "metadata": {},
   "outputs": [],
   "source": [
    "img = img1.rotate(45)\n",
    "# img"
   ]
  },
  {
   "cell_type": "markdown",
   "metadata": {},
   "source": [
    "Possiamo ridurre le immagini dividendo le dimensioni per un fattore k. \n",
    "Ad esempio per k = 10:"
   ]
  },
  {
   "cell_type": "code",
   "execution_count": 18,
   "metadata": {},
   "outputs": [],
   "source": [
    "img = img1.reduce(10)\n",
    "# img"
   ]
  },
  {
   "cell_type": "markdown",
   "metadata": {},
   "source": [
    "Possiamo anche fare dei collage delle nostre foto"
   ]
  },
  {
   "cell_type": "code",
   "execution_count": null,
   "metadata": {},
   "outputs": [],
   "source": [
    "\n",
    "w = img1.size[0] + img2.size[0]\n",
    "h = max(img1.size[1], img2.size[1])\n",
    "im = Image.new(\"RGBA\", (w, h))\n",
    "\n",
    "im.paste(img1)\n",
    "im.paste(img2, (img1.size[0], 0))\n",
    "# im\n"
   ]
  },
  {
   "cell_type": "markdown",
   "metadata": {},
   "source": [
    "## Immagini provenienti dal web\n",
    "### web scraping di immagini con jmd_imagescraper\n",
    "\n",
    "Con Python si possono realizzare utili procedure che prendono dati da siti web di interesse.\n",
    "In particolare, nel caso delle immagini ci sono diverse librerie che possono aiutarci per fare ricerche online di immagini che usano i servizi di motori di ricerca.\n",
    "Ad esempio, [jmd_imagescraper](https://github.com/joedockrill/jmd_imagescraper) è una libreria che usa i servizi di del motore di ricerca [DuckDuckGo](https://duckduckgo.com/) per ricercare e scaricare immagini."
   ]
  },
  {
   "cell_type": "code",
   "execution_count": 19,
   "metadata": {},
   "outputs": [],
   "source": [
    "# come al solito se non avete installato la libreria jmd_imagescraper Python si arrabbierà. Per calmarlo è sufficiente \"scommentare\" e eseguire la prossima riga\n",
    "#!pip install -q jmd_imagescraper\n",
    "from jmd_imagescraper.core import * \n",
    "from pathlib import Path\n",
    "from jmd_imagescraper.imagecleaner import *"
   ]
  },
  {
   "cell_type": "markdown",
   "metadata": {},
   "source": [
    "Proviamo a cercare 50 immagini di cavalli e 50 di elefanti usando la traduzione in lingua Inglese per avere risultati più numerosi.\n",
    "Come potete facilmente capire, 50 immagini da cercare e scaricare sono un bel lavoretto da fare a mano.\n",
    "Per fortuna ci sono le librerie di Python ..."
   ]
  },
  {
   "cell_type": "code",
   "execution_count": 20,
   "metadata": {},
   "outputs": [
    {
     "name": "stdout",
     "output_type": "stream",
     "text": [
      "Duckduckgo search: horses\n",
      "Downloading results into c:\\Users\\lcapitanio\\Google Drive\\Didattica\\LUISS\\LABGP3 - INTELLIGENZA ARTIFICIALE - ARTIFICIAL INTELLIGENCE\\0 Introduzione a Python\\animals\\horse\n"
     ]
    },
    {
     "data": {
      "text/html": [
       "\n",
       "<style>\n",
       "    /* Turns off some styling */\n",
       "    progress {\n",
       "        /* gets rid of default border in Firefox and Opera. */\n",
       "        border: none;\n",
       "        /* Needs to be in here for Safari polyfill so background images work as expected. */\n",
       "        background-size: auto;\n",
       "    }\n",
       "    progress:not([value]), progress:not([value])::-webkit-progress-bar {\n",
       "        background: repeating-linear-gradient(45deg, #7e7e7e, #7e7e7e 10px, #5c5c5c 10px, #5c5c5c 20px);\n",
       "    }\n",
       "    .progress-bar-interrupted, .progress-bar-interrupted::-webkit-progress-bar {\n",
       "        background: #F44336;\n",
       "    }\n",
       "</style>\n"
      ],
      "text/plain": [
       "<IPython.core.display.HTML object>"
      ]
     },
     "metadata": {},
     "output_type": "display_data"
    },
    {
     "data": {
      "text/html": [
       "\n",
       "    <div>\n",
       "      <progress value='10' class='' max='10' style='width:300px; height:20px; vertical-align: middle;'></progress>\n",
       "      100.00% [10/10 00:01&lt;00:00 Images downloaded]\n",
       "    </div>\n",
       "    "
      ],
      "text/plain": [
       "<IPython.core.display.HTML object>"
      ]
     },
     "metadata": {},
     "output_type": "display_data"
    },
    {
     "name": "stdout",
     "output_type": "stream",
     "text": [
      "Duckduckgo search: elephants\n",
      "Downloading results into c:\\Users\\lcapitanio\\Google Drive\\Didattica\\LUISS\\LABGP3 - INTELLIGENZA ARTIFICIALE - ARTIFICIAL INTELLIGENCE\\0 Introduzione a Python\\animals\\elephant\n"
     ]
    },
    {
     "data": {
      "text/html": [
       "\n",
       "<style>\n",
       "    /* Turns off some styling */\n",
       "    progress {\n",
       "        /* gets rid of default border in Firefox and Opera. */\n",
       "        border: none;\n",
       "        /* Needs to be in here for Safari polyfill so background images work as expected. */\n",
       "        background-size: auto;\n",
       "    }\n",
       "    progress:not([value]), progress:not([value])::-webkit-progress-bar {\n",
       "        background: repeating-linear-gradient(45deg, #7e7e7e, #7e7e7e 10px, #5c5c5c 10px, #5c5c5c 20px);\n",
       "    }\n",
       "    .progress-bar-interrupted, .progress-bar-interrupted::-webkit-progress-bar {\n",
       "        background: #F44336;\n",
       "    }\n",
       "</style>\n"
      ],
      "text/plain": [
       "<IPython.core.display.HTML object>"
      ]
     },
     "metadata": {},
     "output_type": "display_data"
    },
    {
     "data": {
      "text/html": [
       "\n",
       "    <div>\n",
       "      <progress value='10' class='' max='10' style='width:300px; height:20px; vertical-align: middle;'></progress>\n",
       "      100.00% [10/10 00:01&lt;00:00 Images downloaded]\n",
       "    </div>\n",
       "    "
      ],
      "text/plain": [
       "<IPython.core.display.HTML object>"
      ]
     },
     "metadata": {},
     "output_type": "display_data"
    },
    {
     "data": {
      "text/plain": [
       "[WindowsPath('c:/Users/lcapitanio/Google Drive/Didattica/LUISS/LABGP3 - INTELLIGENZA ARTIFICIALE - ARTIFICIAL INTELLIGENCE/0 Introduzione a Python/animals/elephant/001_294c3a64.jpg'),\n",
       " WindowsPath('c:/Users/lcapitanio/Google Drive/Didattica/LUISS/LABGP3 - INTELLIGENZA ARTIFICIALE - ARTIFICIAL INTELLIGENCE/0 Introduzione a Python/animals/elephant/002_d03d370f.jpg'),\n",
       " WindowsPath('c:/Users/lcapitanio/Google Drive/Didattica/LUISS/LABGP3 - INTELLIGENZA ARTIFICIALE - ARTIFICIAL INTELLIGENCE/0 Introduzione a Python/animals/elephant/003_94e3ca99.jpg'),\n",
       " WindowsPath('c:/Users/lcapitanio/Google Drive/Didattica/LUISS/LABGP3 - INTELLIGENZA ARTIFICIALE - ARTIFICIAL INTELLIGENCE/0 Introduzione a Python/animals/elephant/004_27acc6f7.jpg'),\n",
       " WindowsPath('c:/Users/lcapitanio/Google Drive/Didattica/LUISS/LABGP3 - INTELLIGENZA ARTIFICIALE - ARTIFICIAL INTELLIGENCE/0 Introduzione a Python/animals/elephant/005_877bd51b.jpg'),\n",
       " WindowsPath('c:/Users/lcapitanio/Google Drive/Didattica/LUISS/LABGP3 - INTELLIGENZA ARTIFICIALE - ARTIFICIAL INTELLIGENCE/0 Introduzione a Python/animals/elephant/006_3f70b3a0.jpg'),\n",
       " WindowsPath('c:/Users/lcapitanio/Google Drive/Didattica/LUISS/LABGP3 - INTELLIGENZA ARTIFICIALE - ARTIFICIAL INTELLIGENCE/0 Introduzione a Python/animals/elephant/007_0b115553.jpg'),\n",
       " WindowsPath('c:/Users/lcapitanio/Google Drive/Didattica/LUISS/LABGP3 - INTELLIGENZA ARTIFICIALE - ARTIFICIAL INTELLIGENCE/0 Introduzione a Python/animals/elephant/008_f10eb7e5.jpg'),\n",
       " WindowsPath('c:/Users/lcapitanio/Google Drive/Didattica/LUISS/LABGP3 - INTELLIGENZA ARTIFICIALE - ARTIFICIAL INTELLIGENCE/0 Introduzione a Python/animals/elephant/009_d70b178f.jpg'),\n",
       " WindowsPath('c:/Users/lcapitanio/Google Drive/Didattica/LUISS/LABGP3 - INTELLIGENZA ARTIFICIALE - ARTIFICIAL INTELLIGENCE/0 Introduzione a Python/animals/elephant/010_0aacd012.jpg')]"
      ]
     },
     "execution_count": 20,
     "metadata": {},
     "output_type": "execute_result"
    }
   ],
   "source": [
    "animals=['horse','elephant']\n",
    "path = Path().cwd()/\"animals\"# crea la cartella animals nella cartella corrente e sposta li la cartella corrente\n",
    "duckduckgo_search(path,\"horse\",\"horses\",max_results=50) #downloads 100 images of 'cats' and saves it in path/cat\n",
    "duckduckgo_search(path,\"elephant\",\"elephants\",max_results=50) #downloads 100 images of 'cats' and saves it in path/cat"
   ]
  },
  {
   "cell_type": "markdown",
   "metadata": {},
   "source": [
    "Adesso, diamo un'occhiata alle immagini scaricate \"automagicamente\" per vedere se c'è qualcuna da scartare.\n",
    "Possiamo usare una funzione interna di Jupyter che si chiama display_image_cleaner(path) al quale basta passare il path della cartella nella quale sono memorizzate le immagini da analizzare."
   ]
  }
 ],
 "metadata": {
  "kernelspec": {
   "display_name": "Python 3.9.13 64-bit (microsoft store)",
   "language": "python",
   "name": "python3"
  },
  "language_info": {
   "codemirror_mode": {
    "name": "ipython",
    "version": 3
   },
   "file_extension": ".py",
   "mimetype": "text/x-python",
   "name": "python",
   "nbconvert_exporter": "python",
   "pygments_lexer": "ipython3",
   "version": "3.9.13"
  },
  "orig_nbformat": 4,
  "vscode": {
   "interpreter": {
    "hash": "b62038c88d86df113664c67e0595a7e5d5857d9b34442a8f39dffa4462ab8f77"
   }
  }
 },
 "nbformat": 4,
 "nbformat_minor": 2
}
