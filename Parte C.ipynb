{
 "cells": [
  {
   "cell_type": "markdown",
   "metadata": {},
   "source": [
    "# Anche le immaginisono oggetti\n",
    "## immagini residenti su memoria di massa\n",
    "### la libreria Pillow\n",
    "\n",
    "Gli oggetti sono utili per memorizzare \"oggetti\" complessi in Python.\n",
    "Ad esempio, possiamo leggere dalla memoria di massa le immagini e immagazzinarle in variabili.\n",
    "Per rendere \"semplice\" la lettura e l'eventuale manipolazione delle immagini possiamo usare la libreria  [Pillow](https://pillow.readthedocs.io/en/stable/)."
   ]
  },
  {
   "cell_type": "code",
   "execution_count": 1,
   "metadata": {},
   "outputs": [],
   "source": [
    "# pip install pillow\n",
    "from PIL import Image"
   ]
  },
  {
   "cell_type": "code",
   "execution_count": 4,
   "metadata": {},
   "outputs": [],
   "source": [
    "img1 = Image.open('1.jpg')\n",
    "# img1"
   ]
  },
  {
   "cell_type": "code",
   "execution_count": 18,
   "metadata": {},
   "outputs": [],
   "source": [
    "img2 = Image.open('2.jpg')\n",
    "# img2"
   ]
  },
  {
   "cell_type": "code",
   "execution_count": 19,
   "metadata": {},
   "outputs": [],
   "source": [
    "img3 = Image.open('3.jpg')\n",
    "# img3"
   ]
  },
  {
   "cell_type": "code",
   "execution_count": 20,
   "metadata": {},
   "outputs": [],
   "source": [
    "img4 = Image.open('4.jpg')\n",
    "# img4"
   ]
  },
  {
   "cell_type": "markdown",
   "metadata": {},
   "source": [
    "### Elaborazione di immagini\n",
    "\n",
    "Nella documentazione della libreria [Pillow](https://pillow.readthedocs.io/en/stable/) trovate un tutorial per usare le funzioni di elaborazione di immagini.\n",
    "Ad esempio, posiamo ruotare le immagini per riportarle in posizione corretta o quasi."
   ]
  },
  {
   "cell_type": "code",
   "execution_count": 21,
   "metadata": {},
   "outputs": [],
   "source": [
    "img = img1.rotate(45)\n",
    "# img"
   ]
  },
  {
   "cell_type": "markdown",
   "metadata": {},
   "source": [
    "Possiamo ridurre le immagini dividendo le dimensioni per un fattore k. \n",
    "Ad esempio per k = 10:"
   ]
  },
  {
   "cell_type": "code",
   "execution_count": 22,
   "metadata": {},
   "outputs": [],
   "source": [
    "img = img1.reduce(10)\n",
    "# img"
   ]
  },
  {
   "cell_type": "markdown",
   "metadata": {},
   "source": [
    "Possiamo anche fare dei collage delle nostre foto"
   ]
  },
  {
   "cell_type": "code",
   "execution_count": 23,
   "metadata": {},
   "outputs": [],
   "source": [
    "\n",
    "w = img1.size[0] + img2.size[0]\n",
    "h = max(img1.size[1], img2.size[1])\n",
    "im = Image.new(\"RGBA\", (w, h))\n",
    "\n",
    "im.paste(img1)\n",
    "im.paste(img2, (img1.size[0], 0))\n",
    "# im\n"
   ]
  },
  {
   "cell_type": "markdown",
   "metadata": {},
   "source": [
    "## Immagini provenienti dal web\n",
    "### web scraping di immagini con jmd_imagescraper\n",
    "\n",
    "Con Python si possono realizzare utili procedure che prendono dati da siti web di interesse.\n",
    "In particolare, nel caso delle immagini ci sono diverse librerie che possono aiutarci per fare ricerche online di immagini che usano i servizi di motori di ricerca.\n",
    "Ad esempio, [jmd_imagescraper](https://github.com/joedockrill/jmd_imagescraper) è una libreria che usa i servizi di del motore di ricerca [DuckDuckGo](https://duckduckgo.com/) per ricercare e scaricare immagini."
   ]
  },
  {
   "cell_type": "code",
   "execution_count": 5,
   "metadata": {},
   "outputs": [],
   "source": [
    "# come al solito se non avete installato la libreria jmd_imagescraper Python si arrabbierà. Per calmarlo è sufficiente \"scommentare\" e eseguire la prossima riga\n",
    "#!pip install -q jmd_imagescraper\n",
    "from jmd_imagescraper.core import * \n",
    "from pathlib import Path\n",
    "from jmd_imagescraper.imagecleaner import *"
   ]
  },
  {
   "cell_type": "markdown",
   "metadata": {},
   "source": [
    "Proviamo a cercare 50 immagini di cavalli e 50 di elefanti usando la traduzione in lingua Inglese per avere risultati più numerosi.\n",
    "Come potete facilmente capire, 50 immagini da cercare e scaricare sono un bel lavoretto da fare a mano.\n",
    "Per fortuna ci sono le librerie di Python ..."
   ]
  },
  {
   "cell_type": "code",
   "execution_count": 6,
   "metadata": {},
   "outputs": [
    {
     "name": "stdout",
     "output_type": "stream",
     "text": [
      "Duckduckgo search: horses\n",
      "Downloading results into c:\\Users\\lcapitanio\\Google Drive\\Didattica\\LUISS\\LABGP3 - INTELLIGENZA ARTIFICIALE - ARTIFICIAL INTELLIGENCE\\0 Introduzione a Python\\animals\\horse\n"
     ]
    },
    {
     "data": {
      "text/html": [
       "\n",
       "<style>\n",
       "    /* Turns off some styling */\n",
       "    progress {\n",
       "        /* gets rid of default border in Firefox and Opera. */\n",
       "        border: none;\n",
       "        /* Needs to be in here for Safari polyfill so background images work as expected. */\n",
       "        background-size: auto;\n",
       "    }\n",
       "    progress:not([value]), progress:not([value])::-webkit-progress-bar {\n",
       "        background: repeating-linear-gradient(45deg, #7e7e7e, #7e7e7e 10px, #5c5c5c 10px, #5c5c5c 20px);\n",
       "    }\n",
       "    .progress-bar-interrupted, .progress-bar-interrupted::-webkit-progress-bar {\n",
       "        background: #F44336;\n",
       "    }\n",
       "</style>\n"
      ],
      "text/plain": [
       "<IPython.core.display.HTML object>"
      ]
     },
     "metadata": {},
     "output_type": "display_data"
    },
    {
     "data": {
      "text/html": [
       "\n",
       "    <div>\n",
       "      <progress value='50' class='' max='50' style='width:300px; height:20px; vertical-align: middle;'></progress>\n",
       "      100.00% [50/50 00:10&lt;00:00 Images downloaded]\n",
       "    </div>\n",
       "    "
      ],
      "text/plain": [
       "<IPython.core.display.HTML object>"
      ]
     },
     "metadata": {},
     "output_type": "display_data"
    },
    {
     "name": "stdout",
     "output_type": "stream",
     "text": [
      "Exception occured while retrieving https://tse1.explicit.bing.net/th?id=OIP.tR2M-hV1vauOFZHTek4mfAHaHa&pid=Api\n",
      "Exception occured while retrieving https://tse4.explicit.bing.net/th?id=OIP.nMw7zJkbHY-zZGihGi3HqAHaJQ&pid=Api\n",
      "Duckduckgo search: elephants\n",
      "Downloading results into c:\\Users\\lcapitanio\\Google Drive\\Didattica\\LUISS\\LABGP3 - INTELLIGENZA ARTIFICIALE - ARTIFICIAL INTELLIGENCE\\0 Introduzione a Python\\animals\\elephant\n"
     ]
    },
    {
     "data": {
      "text/html": [
       "\n",
       "<style>\n",
       "    /* Turns off some styling */\n",
       "    progress {\n",
       "        /* gets rid of default border in Firefox and Opera. */\n",
       "        border: none;\n",
       "        /* Needs to be in here for Safari polyfill so background images work as expected. */\n",
       "        background-size: auto;\n",
       "    }\n",
       "    progress:not([value]), progress:not([value])::-webkit-progress-bar {\n",
       "        background: repeating-linear-gradient(45deg, #7e7e7e, #7e7e7e 10px, #5c5c5c 10px, #5c5c5c 20px);\n",
       "    }\n",
       "    .progress-bar-interrupted, .progress-bar-interrupted::-webkit-progress-bar {\n",
       "        background: #F44336;\n",
       "    }\n",
       "</style>\n"
      ],
      "text/plain": [
       "<IPython.core.display.HTML object>"
      ]
     },
     "metadata": {},
     "output_type": "display_data"
    },
    {
     "data": {
      "text/html": [
       "\n",
       "    <div>\n",
       "      <progress value='50' class='' max='50' style='width:300px; height:20px; vertical-align: middle;'></progress>\n",
       "      100.00% [50/50 00:06&lt;00:00 Images downloaded]\n",
       "    </div>\n",
       "    "
      ],
      "text/plain": [
       "<IPython.core.display.HTML object>"
      ]
     },
     "metadata": {},
     "output_type": "display_data"
    },
    {
     "name": "stdout",
     "output_type": "stream",
     "text": [
      "Exception occured while retrieving https://tse4.explicit.bing.net/th?id=OIP.ynjupCCcN-GZQh7baEi0JgHaHa&pid=Api\n",
      "Exception occured while retrieving https://tse4.explicit.bing.net/th?id=OIP.K-B0KnVsB6RYbimzMqbF9wHaHa&pid=Api\n"
     ]
    },
    {
     "data": {
      "text/plain": [
       "[WindowsPath('c:/Users/lcapitanio/Google Drive/Didattica/LUISS/LABGP3 - INTELLIGENZA ARTIFICIALE - ARTIFICIAL INTELLIGENCE/0 Introduzione a Python/animals/elephant/001_9bbe095a.jpg'),\n",
       " WindowsPath('c:/Users/lcapitanio/Google Drive/Didattica/LUISS/LABGP3 - INTELLIGENZA ARTIFICIALE - ARTIFICIAL INTELLIGENCE/0 Introduzione a Python/animals/elephant/002_edbb8918.jpg'),\n",
       " WindowsPath('c:/Users/lcapitanio/Google Drive/Didattica/LUISS/LABGP3 - INTELLIGENZA ARTIFICIALE - ARTIFICIAL INTELLIGENCE/0 Introduzione a Python/animals/elephant/003_185dcf49.jpg'),\n",
       " WindowsPath('c:/Users/lcapitanio/Google Drive/Didattica/LUISS/LABGP3 - INTELLIGENZA ARTIFICIALE - ARTIFICIAL INTELLIGENCE/0 Introduzione a Python/animals/elephant/004_60c5b150.jpg'),\n",
       " WindowsPath('c:/Users/lcapitanio/Google Drive/Didattica/LUISS/LABGP3 - INTELLIGENZA ARTIFICIALE - ARTIFICIAL INTELLIGENCE/0 Introduzione a Python/animals/elephant/005_849bc366.jpg'),\n",
       " WindowsPath('c:/Users/lcapitanio/Google Drive/Didattica/LUISS/LABGP3 - INTELLIGENZA ARTIFICIALE - ARTIFICIAL INTELLIGENCE/0 Introduzione a Python/animals/elephant/006_084cce28.jpg'),\n",
       " WindowsPath('c:/Users/lcapitanio/Google Drive/Didattica/LUISS/LABGP3 - INTELLIGENZA ARTIFICIALE - ARTIFICIAL INTELLIGENCE/0 Introduzione a Python/animals/elephant/007_73c69c24.jpg'),\n",
       " WindowsPath('c:/Users/lcapitanio/Google Drive/Didattica/LUISS/LABGP3 - INTELLIGENZA ARTIFICIALE - ARTIFICIAL INTELLIGENCE/0 Introduzione a Python/animals/elephant/008_7cd7a539.jpg'),\n",
       " WindowsPath('c:/Users/lcapitanio/Google Drive/Didattica/LUISS/LABGP3 - INTELLIGENZA ARTIFICIALE - ARTIFICIAL INTELLIGENCE/0 Introduzione a Python/animals/elephant/009_80b79e2c.jpg'),\n",
       " WindowsPath('c:/Users/lcapitanio/Google Drive/Didattica/LUISS/LABGP3 - INTELLIGENZA ARTIFICIALE - ARTIFICIAL INTELLIGENCE/0 Introduzione a Python/animals/elephant/010_d470a8d0.jpg'),\n",
       " WindowsPath('c:/Users/lcapitanio/Google Drive/Didattica/LUISS/LABGP3 - INTELLIGENZA ARTIFICIALE - ARTIFICIAL INTELLIGENCE/0 Introduzione a Python/animals/elephant/011_c45e61c5.jpg'),\n",
       " WindowsPath('c:/Users/lcapitanio/Google Drive/Didattica/LUISS/LABGP3 - INTELLIGENZA ARTIFICIALE - ARTIFICIAL INTELLIGENCE/0 Introduzione a Python/animals/elephant/012_b7d08978.jpg'),\n",
       " WindowsPath('c:/Users/lcapitanio/Google Drive/Didattica/LUISS/LABGP3 - INTELLIGENZA ARTIFICIALE - ARTIFICIAL INTELLIGENCE/0 Introduzione a Python/animals/elephant/013_668103bf.jpg'),\n",
       " WindowsPath('c:/Users/lcapitanio/Google Drive/Didattica/LUISS/LABGP3 - INTELLIGENZA ARTIFICIALE - ARTIFICIAL INTELLIGENCE/0 Introduzione a Python/animals/elephant/014_1a9e71b8.jpg'),\n",
       " WindowsPath('c:/Users/lcapitanio/Google Drive/Didattica/LUISS/LABGP3 - INTELLIGENZA ARTIFICIALE - ARTIFICIAL INTELLIGENCE/0 Introduzione a Python/animals/elephant/015_49e60a0d.jpg'),\n",
       " WindowsPath('c:/Users/lcapitanio/Google Drive/Didattica/LUISS/LABGP3 - INTELLIGENZA ARTIFICIALE - ARTIFICIAL INTELLIGENCE/0 Introduzione a Python/animals/elephant/016_77f24e67.jpg'),\n",
       " WindowsPath('c:/Users/lcapitanio/Google Drive/Didattica/LUISS/LABGP3 - INTELLIGENZA ARTIFICIALE - ARTIFICIAL INTELLIGENCE/0 Introduzione a Python/animals/elephant/017_833cbdd4.jpg'),\n",
       " WindowsPath('c:/Users/lcapitanio/Google Drive/Didattica/LUISS/LABGP3 - INTELLIGENZA ARTIFICIALE - ARTIFICIAL INTELLIGENCE/0 Introduzione a Python/animals/elephant/018_9c217d54.jpg'),\n",
       " WindowsPath('c:/Users/lcapitanio/Google Drive/Didattica/LUISS/LABGP3 - INTELLIGENZA ARTIFICIALE - ARTIFICIAL INTELLIGENCE/0 Introduzione a Python/animals/elephant/019_7575bd08.jpg'),\n",
       " WindowsPath('c:/Users/lcapitanio/Google Drive/Didattica/LUISS/LABGP3 - INTELLIGENZA ARTIFICIALE - ARTIFICIAL INTELLIGENCE/0 Introduzione a Python/animals/elephant/020_36ff4aa4.jpg'),\n",
       " WindowsPath('c:/Users/lcapitanio/Google Drive/Didattica/LUISS/LABGP3 - INTELLIGENZA ARTIFICIALE - ARTIFICIAL INTELLIGENCE/0 Introduzione a Python/animals/elephant/021_1d300894.jpg'),\n",
       " WindowsPath('c:/Users/lcapitanio/Google Drive/Didattica/LUISS/LABGP3 - INTELLIGENZA ARTIFICIALE - ARTIFICIAL INTELLIGENCE/0 Introduzione a Python/animals/elephant/022_c3f62d13.jpg'),\n",
       " WindowsPath('c:/Users/lcapitanio/Google Drive/Didattica/LUISS/LABGP3 - INTELLIGENZA ARTIFICIALE - ARTIFICIAL INTELLIGENCE/0 Introduzione a Python/animals/elephant/023_38985fdd.jpg'),\n",
       " WindowsPath('c:/Users/lcapitanio/Google Drive/Didattica/LUISS/LABGP3 - INTELLIGENZA ARTIFICIALE - ARTIFICIAL INTELLIGENCE/0 Introduzione a Python/animals/elephant/024_8f68aa0f.jpg'),\n",
       " WindowsPath('c:/Users/lcapitanio/Google Drive/Didattica/LUISS/LABGP3 - INTELLIGENZA ARTIFICIALE - ARTIFICIAL INTELLIGENCE/0 Introduzione a Python/animals/elephant/025_1e81f0b3.jpg'),\n",
       " WindowsPath('c:/Users/lcapitanio/Google Drive/Didattica/LUISS/LABGP3 - INTELLIGENZA ARTIFICIALE - ARTIFICIAL INTELLIGENCE/0 Introduzione a Python/animals/elephant/026_077deb31.jpg'),\n",
       " WindowsPath('c:/Users/lcapitanio/Google Drive/Didattica/LUISS/LABGP3 - INTELLIGENZA ARTIFICIALE - ARTIFICIAL INTELLIGENCE/0 Introduzione a Python/animals/elephant/027_560187e7.jpg'),\n",
       " WindowsPath('c:/Users/lcapitanio/Google Drive/Didattica/LUISS/LABGP3 - INTELLIGENZA ARTIFICIALE - ARTIFICIAL INTELLIGENCE/0 Introduzione a Python/animals/elephant/028_2962f3c5.jpg'),\n",
       " WindowsPath('c:/Users/lcapitanio/Google Drive/Didattica/LUISS/LABGP3 - INTELLIGENZA ARTIFICIALE - ARTIFICIAL INTELLIGENCE/0 Introduzione a Python/animals/elephant/029_43addcda.jpg'),\n",
       " WindowsPath('c:/Users/lcapitanio/Google Drive/Didattica/LUISS/LABGP3 - INTELLIGENZA ARTIFICIALE - ARTIFICIAL INTELLIGENCE/0 Introduzione a Python/animals/elephant/030_cd3a408b.jpg'),\n",
       " WindowsPath('c:/Users/lcapitanio/Google Drive/Didattica/LUISS/LABGP3 - INTELLIGENZA ARTIFICIALE - ARTIFICIAL INTELLIGENCE/0 Introduzione a Python/animals/elephant/031_239aff34.jpg'),\n",
       " WindowsPath('c:/Users/lcapitanio/Google Drive/Didattica/LUISS/LABGP3 - INTELLIGENZA ARTIFICIALE - ARTIFICIAL INTELLIGENCE/0 Introduzione a Python/animals/elephant/032_8c2e24c6.jpg'),\n",
       " WindowsPath('c:/Users/lcapitanio/Google Drive/Didattica/LUISS/LABGP3 - INTELLIGENZA ARTIFICIALE - ARTIFICIAL INTELLIGENCE/0 Introduzione a Python/animals/elephant/033_c669903b.jpg'),\n",
       " WindowsPath('c:/Users/lcapitanio/Google Drive/Didattica/LUISS/LABGP3 - INTELLIGENZA ARTIFICIALE - ARTIFICIAL INTELLIGENCE/0 Introduzione a Python/animals/elephant/035_cf115b98.jpg'),\n",
       " WindowsPath('c:/Users/lcapitanio/Google Drive/Didattica/LUISS/LABGP3 - INTELLIGENZA ARTIFICIALE - ARTIFICIAL INTELLIGENCE/0 Introduzione a Python/animals/elephant/036_68582013.jpg'),\n",
       " WindowsPath('c:/Users/lcapitanio/Google Drive/Didattica/LUISS/LABGP3 - INTELLIGENZA ARTIFICIALE - ARTIFICIAL INTELLIGENCE/0 Introduzione a Python/animals/elephant/037_8915bfd2.jpg'),\n",
       " WindowsPath('c:/Users/lcapitanio/Google Drive/Didattica/LUISS/LABGP3 - INTELLIGENZA ARTIFICIALE - ARTIFICIAL INTELLIGENCE/0 Introduzione a Python/animals/elephant/038_04a2d8e1.jpg'),\n",
       " WindowsPath('c:/Users/lcapitanio/Google Drive/Didattica/LUISS/LABGP3 - INTELLIGENZA ARTIFICIALE - ARTIFICIAL INTELLIGENCE/0 Introduzione a Python/animals/elephant/039_187eda59.jpg'),\n",
       " WindowsPath('c:/Users/lcapitanio/Google Drive/Didattica/LUISS/LABGP3 - INTELLIGENZA ARTIFICIALE - ARTIFICIAL INTELLIGENCE/0 Introduzione a Python/animals/elephant/040_32d36e7c.jpg'),\n",
       " WindowsPath('c:/Users/lcapitanio/Google Drive/Didattica/LUISS/LABGP3 - INTELLIGENZA ARTIFICIALE - ARTIFICIAL INTELLIGENCE/0 Introduzione a Python/animals/elephant/041_623c1ea2.jpg'),\n",
       " WindowsPath('c:/Users/lcapitanio/Google Drive/Didattica/LUISS/LABGP3 - INTELLIGENZA ARTIFICIALE - ARTIFICIAL INTELLIGENCE/0 Introduzione a Python/animals/elephant/042_d2b4748f.jpg'),\n",
       " WindowsPath('c:/Users/lcapitanio/Google Drive/Didattica/LUISS/LABGP3 - INTELLIGENZA ARTIFICIALE - ARTIFICIAL INTELLIGENCE/0 Introduzione a Python/animals/elephant/043_f19b0d52.jpg'),\n",
       " WindowsPath('c:/Users/lcapitanio/Google Drive/Didattica/LUISS/LABGP3 - INTELLIGENZA ARTIFICIALE - ARTIFICIAL INTELLIGENCE/0 Introduzione a Python/animals/elephant/044_5943362b.jpg'),\n",
       " WindowsPath('c:/Users/lcapitanio/Google Drive/Didattica/LUISS/LABGP3 - INTELLIGENZA ARTIFICIALE - ARTIFICIAL INTELLIGENCE/0 Introduzione a Python/animals/elephant/045_00dd7ba5.jpg'),\n",
       " WindowsPath('c:/Users/lcapitanio/Google Drive/Didattica/LUISS/LABGP3 - INTELLIGENZA ARTIFICIALE - ARTIFICIAL INTELLIGENCE/0 Introduzione a Python/animals/elephant/046_71cea93f.jpg'),\n",
       " WindowsPath('c:/Users/lcapitanio/Google Drive/Didattica/LUISS/LABGP3 - INTELLIGENZA ARTIFICIALE - ARTIFICIAL INTELLIGENCE/0 Introduzione a Python/animals/elephant/048_0eed3f47.jpg'),\n",
       " WindowsPath('c:/Users/lcapitanio/Google Drive/Didattica/LUISS/LABGP3 - INTELLIGENZA ARTIFICIALE - ARTIFICIAL INTELLIGENCE/0 Introduzione a Python/animals/elephant/049_d826e6f5.jpg'),\n",
       " WindowsPath('c:/Users/lcapitanio/Google Drive/Didattica/LUISS/LABGP3 - INTELLIGENZA ARTIFICIALE - ARTIFICIAL INTELLIGENCE/0 Introduzione a Python/animals/elephant/050_e58ad4e0.jpg')]"
      ]
     },
     "execution_count": 6,
     "metadata": {},
     "output_type": "execute_result"
    }
   ],
   "source": [
    "animals=['horse','elephant']\n",
    "path = Path().cwd()/\"animals\"# crea la cartella animals nella cartella corrente e sposta li la cartella corrente\n",
    "duckduckgo_search(path,\"horse\",\"horses\",max_results=50) # cerca e scarica 50 immagini di cavalli e li salva in path/horse\n",
    "duckduckgo_search(path,\"elephant\",\"elephants\",max_results=50) # cerca e scarica 50 immagini di elefanti e li salva in path/elephant\n"
   ]
  },
  {
   "cell_type": "code",
   "execution_count": 10,
   "metadata": {},
   "outputs": [
    {
     "data": {
      "application/vnd.jupyter.widget-view+json": {
       "model_id": "f6afd7fb00cb4c779824d0daeeb704a0",
       "version_major": 2,
       "version_minor": 0
      },
      "text/plain": [
       "HBox(children=(Button(description='|<<', layout=Layout(width='60px'), style=ButtonStyle()), Button(description…"
      ]
     },
     "metadata": {},
     "output_type": "display_data"
    },
    {
     "data": {
      "application/vnd.jupyter.widget-view+json": {
       "model_id": "0e7e4925fcfb4dee9a6b6eff6165565e",
       "version_major": 2,
       "version_minor": 0
      },
      "text/plain": [
       "HTML(value='<h2>No images left to display in this folder.</h2>', layout=Layout(visibility='hidden'))"
      ]
     },
     "metadata": {},
     "output_type": "display_data"
    },
    {
     "data": {
      "application/vnd.jupyter.widget-view+json": {
       "model_id": "9bb9972467d848f69dc4d285c80e5169",
       "version_major": 2,
       "version_minor": 0
      },
      "text/plain": [
       "GridBox(children=(VBox(children=(Image(value=b'', layout=\"Layout(width='150px')\"), Button(description='Delete'…"
      ]
     },
     "metadata": {},
     "output_type": "display_data"
    }
   ],
   "source": [
    "display_image_cleaner(path)\n",
    "\n"
   ]
  }
 ],
 "metadata": {
  "kernelspec": {
   "display_name": "Python 3.9.13 64-bit (microsoft store)",
   "language": "python",
   "name": "python3"
  },
  "language_info": {
   "codemirror_mode": {
    "name": "ipython",
    "version": 3
   },
   "file_extension": ".py",
   "mimetype": "text/x-python",
   "name": "python",
   "nbconvert_exporter": "python",
   "pygments_lexer": "ipython3",
   "version": "3.9.13"
  },
  "orig_nbformat": 4,
  "vscode": {
   "interpreter": {
    "hash": "b62038c88d86df113664c67e0595a7e5d5857d9b34442a8f39dffa4462ab8f77"
   }
  }
 },
 "nbformat": 4,
 "nbformat_minor": 2
}
