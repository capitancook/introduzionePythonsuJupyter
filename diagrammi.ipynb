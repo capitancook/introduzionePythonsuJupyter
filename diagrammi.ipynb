{
 "cells": [
  {
   "cell_type": "code",
   "execution_count": null,
   "metadata": {},
   "outputs": [],
   "source": [
    "from graphviz import Digraph\n",
    "# Create Digraph object\n",
    "dot = Digraph()\n",
    "# Add nodes 1 and 2\n",
    "dot.node('1')\n",
    "dot.node('2')\n",
    "dot.node('3','pippo')\n",
    "\n",
    "# Add edge between 1 and 2\n",
    "dot.edges(['12'])\n",
    "dot.edges(['21'])\n",
    "\n",
    "# Visualize the graph\n",
    "dot"
   ]
  }
 ],
 "metadata": {
  "language_info": {
   "name": "python"
  },
  "orig_nbformat": 4
 },
 "nbformat": 4,
 "nbformat_minor": 2
}
