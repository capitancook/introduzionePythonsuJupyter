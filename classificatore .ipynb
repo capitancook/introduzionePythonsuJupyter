{
 "cells": [
  {
   "cell_type": "markdown",
   "metadata": {},
   "source": [
    "# Classificatore di immagini\n",
    "\n",
    "Con quanto appreso fin qui possiamo creare la nostra prima intelligenza artificiale.\n",
    "Come avrete notato se vogliamo scrivere un software per risolvere un qualche problerma applicativo dobbiamo individuare le giuste strutture dati e l'algoritmo che risolve il nostro problema.\n",
    "L'algoritmo deve essere descritto fin nei minimi dettagli con il linguaggio di programmazione scelto.\n",
    "Tutto ciò è molto bello ma c'è un altro modo per affrontare un problema applicativo?\n",
    "Gli scienziati si sono interrogati nello stesso modo fin dagli anni '50 del secolo scorso e le soluzioni alla quali sono giunti sono essenzialmente due:\n",
    "\n",
    "- Linguaggi ad alto livello o meta linguaggi per la descrizione di problemi applicativi \"eseguibili\" dai computer;\n",
    "- Tecniche di apprendimento automatico (=Intelligenza artificiale).\n",
    "\n",
    "Della prima soluzione non ci occupiamo.\n",
    "La seconda soluzione è una delle tecniche di interesse per questo corso."
   ]
  },
  {
   "cell_type": "markdown",
   "metadata": {},
   "source": [
    "## Creiamo l'insieme di addestramento\n",
    "\n",
    "Ad esempio creiamo"
   ]
  },
  {
   "cell_type": "code",
   "execution_count": 1,
   "metadata": {},
   "outputs": [],
   "source": [
    "!pip install -Uqq fastbook\n",
    "\n",
    "import fastbook  #import the fast.ai library\n",
    "from fastbook import *  #dont't worry, it's designed to work with import *\n",
    "fastbook.setup_book()\n",
    "from fastai.vision.widgets import *\n",
    "\n",
    "#import the image scraper by @JoeDockrill, website: https://joedockrill.github.io/blog/2020/09/18/jmd-imagescraper-library/\n",
    "from jmd_imagescraper.core import * \n",
    "from pathlib import Path\n",
    "from jmd_imagescraper.imagecleaner import *"
   ]
  },
  {
   "cell_type": "code",
   "execution_count": 17,
   "metadata": {},
   "outputs": [],
   "source": [
    "img1 = Image.open('1.jpg')\n",
    "# img1"
   ]
  },
  {
   "cell_type": "code",
   "execution_count": 18,
   "metadata": {},
   "outputs": [],
   "source": [
    "img2 = Image.open('2.jpg')\n",
    "# img2"
   ]
  },
  {
   "cell_type": "code",
   "execution_count": 19,
   "metadata": {},
   "outputs": [],
   "source": [
    "img3 = Image.open('3.jpg')\n",
    "# img3"
   ]
  },
  {
   "cell_type": "code",
   "execution_count": 20,
   "metadata": {},
   "outputs": [],
   "source": [
    "img4 = Image.open('4.jpg')\n",
    "# img4"
   ]
  },
  {
   "cell_type": "markdown",
   "metadata": {},
   "source": [
    "### Elaborazione di immagini\n",
    "\n",
    "Nella documentazione della libreria [Pillow](https://pillow.readthedocs.io/en/stable/) trovate un tutorial per usare le funzioni di elaborazione di immagini.\n",
    "Ad esempio, posiamo ruotare le immagini per riportarle in posizione corretta o quasi."
   ]
  },
  {
   "cell_type": "code",
   "execution_count": 21,
   "metadata": {},
   "outputs": [],
   "source": [
    "img = img1.rotate(45)\n",
    "# img"
   ]
  },
  {
   "cell_type": "markdown",
   "metadata": {},
   "source": [
    "Possiamo ridurre le immagini dividendo le dimensioni per un fattore k. \n",
    "Ad esempio per k = 10:"
   ]
  },
  {
   "cell_type": "code",
   "execution_count": 22,
   "metadata": {},
   "outputs": [],
   "source": [
    "img = img1.reduce(10)\n",
    "# img"
   ]
  },
  {
   "cell_type": "markdown",
   "metadata": {},
   "source": [
    "Possiamo anche fare dei collage delle nostre foto"
   ]
  },
  {
   "cell_type": "code",
   "execution_count": 23,
   "metadata": {},
   "outputs": [],
   "source": [
    "\n",
    "w = img1.size[0] + img2.size[0]\n",
    "h = max(img1.size[1], img2.size[1])\n",
    "im = Image.new(\"RGBA\", (w, h))\n",
    "\n",
    "im.paste(img1)\n",
    "im.paste(img2, (img1.size[0], 0))\n",
    "# im\n"
   ]
  },
  {
   "cell_type": "markdown",
   "metadata": {},
   "source": [
    "## Immagini provenienti dal web\n",
    "### web scraping di immagini con jmd_imagescraper\n",
    "\n",
    "Con Python si possono realizzare utili procedure che prendono dati da siti web di interesse.\n",
    "In particolare, nel caso delle immagini ci sono diverse librerie che possono aiutarci per fare ricerche online di immagini che usano i servizi di motori di ricerca.\n",
    "Ad esempio, [jmd_imagescraper](https://github.com/joedockrill/jmd_imagescraper) è una libreria che usa i servizi di del motore di ricerca [DuckDuckGo](https://duckduckgo.com/) per ricercare e scaricare immagini."
   ]
  },
  {
   "cell_type": "code",
   "execution_count": 3,
   "metadata": {},
   "outputs": [],
   "source": [
    "# come al solito se non avete installato la libreria jmd_imagescraper Python si arrabbierà. Per calmarlo è sufficiente \"scommentare\" e eseguire la prossima riga\n",
    "#!pip install -q jmd_imagescraper\n",
    "from jmd_imagescraper.core import * \n",
    "from pathlib import Path\n",
    "from jmd_imagescraper.imagecleaner import *"
   ]
  },
  {
   "cell_type": "markdown",
   "metadata": {},
   "source": [
    "Proviamo a cercare 50 immagini di cavalli e 50 di elefanti usando la traduzione in lingua Inglese per avere risultati più numerosi.\n",
    "Come potete facilmente capire, 50 immagini da cercare e scaricare sono un bel lavoretto da fare a mano.\n",
    "Per fortuna ci sono le librerie di Python ..."
   ]
  },
  {
   "cell_type": "code",
   "execution_count": 12,
   "metadata": {},
   "outputs": [
    {
     "name": "stdout",
     "output_type": "stream",
     "text": [
      "Duckduckgo search: horses\n",
      "Downloading results into c:\\Users\\lcapitanio\\Google Drive\\Didattica\\LUISS\\LABGP3 - INTELLIGENZA ARTIFICIALE - ARTIFICIAL INTELLIGENCE\\0 Introduzione a Python\\animals\\horse\n"
     ]
    },
    {
     "data": {
      "text/html": [
       "\n",
       "<style>\n",
       "    /* Turns off some styling */\n",
       "    progress {\n",
       "        /* gets rid of default border in Firefox and Opera. */\n",
       "        border: none;\n",
       "        /* Needs to be in here for Safari polyfill so background images work as expected. */\n",
       "        background-size: auto;\n",
       "    }\n",
       "    progress:not([value]), progress:not([value])::-webkit-progress-bar {\n",
       "        background: repeating-linear-gradient(45deg, #7e7e7e, #7e7e7e 10px, #5c5c5c 10px, #5c5c5c 20px);\n",
       "    }\n",
       "    .progress-bar-interrupted, .progress-bar-interrupted::-webkit-progress-bar {\n",
       "        background: #F44336;\n",
       "    }\n",
       "</style>\n"
      ],
      "text/plain": [
       "<IPython.core.display.HTML object>"
      ]
     },
     "metadata": {},
     "output_type": "display_data"
    },
    {
     "data": {
      "text/html": [
       "\n",
       "    <div>\n",
       "      <progress value='50' class='' max='50' style='width:300px; height:20px; vertical-align: middle;'></progress>\n",
       "      100.00% [50/50 00:16&lt;00:00 Images downloaded]\n",
       "    </div>\n",
       "    "
      ],
      "text/plain": [
       "<IPython.core.display.HTML object>"
      ]
     },
     "metadata": {},
     "output_type": "display_data"
    },
    {
     "name": "stdout",
     "output_type": "stream",
     "text": [
      "Duckduckgo search: elephants\n",
      "Downloading results into c:\\Users\\lcapitanio\\Google Drive\\Didattica\\LUISS\\LABGP3 - INTELLIGENZA ARTIFICIALE - ARTIFICIAL INTELLIGENCE\\0 Introduzione a Python\\animals\\elephant\n"
     ]
    },
    {
     "data": {
      "text/html": [
       "\n",
       "<style>\n",
       "    /* Turns off some styling */\n",
       "    progress {\n",
       "        /* gets rid of default border in Firefox and Opera. */\n",
       "        border: none;\n",
       "        /* Needs to be in here for Safari polyfill so background images work as expected. */\n",
       "        background-size: auto;\n",
       "    }\n",
       "    progress:not([value]), progress:not([value])::-webkit-progress-bar {\n",
       "        background: repeating-linear-gradient(45deg, #7e7e7e, #7e7e7e 10px, #5c5c5c 10px, #5c5c5c 20px);\n",
       "    }\n",
       "    .progress-bar-interrupted, .progress-bar-interrupted::-webkit-progress-bar {\n",
       "        background: #F44336;\n",
       "    }\n",
       "</style>\n"
      ],
      "text/plain": [
       "<IPython.core.display.HTML object>"
      ]
     },
     "metadata": {},
     "output_type": "display_data"
    },
    {
     "data": {
      "text/html": [
       "\n",
       "    <div>\n",
       "      <progress value='50' class='' max='50' style='width:300px; height:20px; vertical-align: middle;'></progress>\n",
       "      100.00% [50/50 00:23&lt;00:00 Images downloaded]\n",
       "    </div>\n",
       "    "
      ],
      "text/plain": [
       "<IPython.core.display.HTML object>"
      ]
     },
     "metadata": {},
     "output_type": "display_data"
    },
    {
     "data": {
      "text/plain": [
       "[WindowsPath('c:/Users/lcapitanio/Google Drive/Didattica/LUISS/LABGP3 - INTELLIGENZA ARTIFICIALE - ARTIFICIAL INTELLIGENCE/0 Introduzione a Python/animals/elephant/001_13b45fbd.jpg'),\n",
       " WindowsPath('c:/Users/lcapitanio/Google Drive/Didattica/LUISS/LABGP3 - INTELLIGENZA ARTIFICIALE - ARTIFICIAL INTELLIGENCE/0 Introduzione a Python/animals/elephant/002_4137f0b3.jpg'),\n",
       " WindowsPath('c:/Users/lcapitanio/Google Drive/Didattica/LUISS/LABGP3 - INTELLIGENZA ARTIFICIALE - ARTIFICIAL INTELLIGENCE/0 Introduzione a Python/animals/elephant/003_7f0cfc87.jpg'),\n",
       " WindowsPath('c:/Users/lcapitanio/Google Drive/Didattica/LUISS/LABGP3 - INTELLIGENZA ARTIFICIALE - ARTIFICIAL INTELLIGENCE/0 Introduzione a Python/animals/elephant/004_f94b8cc4.jpg'),\n",
       " WindowsPath('c:/Users/lcapitanio/Google Drive/Didattica/LUISS/LABGP3 - INTELLIGENZA ARTIFICIALE - ARTIFICIAL INTELLIGENCE/0 Introduzione a Python/animals/elephant/005_ddfcfc03.jpg'),\n",
       " WindowsPath('c:/Users/lcapitanio/Google Drive/Didattica/LUISS/LABGP3 - INTELLIGENZA ARTIFICIALE - ARTIFICIAL INTELLIGENCE/0 Introduzione a Python/animals/elephant/006_58a13eea.jpg'),\n",
       " WindowsPath('c:/Users/lcapitanio/Google Drive/Didattica/LUISS/LABGP3 - INTELLIGENZA ARTIFICIALE - ARTIFICIAL INTELLIGENCE/0 Introduzione a Python/animals/elephant/007_125651c6.jpg'),\n",
       " WindowsPath('c:/Users/lcapitanio/Google Drive/Didattica/LUISS/LABGP3 - INTELLIGENZA ARTIFICIALE - ARTIFICIAL INTELLIGENCE/0 Introduzione a Python/animals/elephant/008_ba32de04.jpg'),\n",
       " WindowsPath('c:/Users/lcapitanio/Google Drive/Didattica/LUISS/LABGP3 - INTELLIGENZA ARTIFICIALE - ARTIFICIAL INTELLIGENCE/0 Introduzione a Python/animals/elephant/009_34263a59.jpg'),\n",
       " WindowsPath('c:/Users/lcapitanio/Google Drive/Didattica/LUISS/LABGP3 - INTELLIGENZA ARTIFICIALE - ARTIFICIAL INTELLIGENCE/0 Introduzione a Python/animals/elephant/010_d87da64a.jpg'),\n",
       " WindowsPath('c:/Users/lcapitanio/Google Drive/Didattica/LUISS/LABGP3 - INTELLIGENZA ARTIFICIALE - ARTIFICIAL INTELLIGENCE/0 Introduzione a Python/animals/elephant/011_66df3b0f.jpg'),\n",
       " WindowsPath('c:/Users/lcapitanio/Google Drive/Didattica/LUISS/LABGP3 - INTELLIGENZA ARTIFICIALE - ARTIFICIAL INTELLIGENCE/0 Introduzione a Python/animals/elephant/012_e7be4e6e.jpg'),\n",
       " WindowsPath('c:/Users/lcapitanio/Google Drive/Didattica/LUISS/LABGP3 - INTELLIGENZA ARTIFICIALE - ARTIFICIAL INTELLIGENCE/0 Introduzione a Python/animals/elephant/013_f145b87e.jpg'),\n",
       " WindowsPath('c:/Users/lcapitanio/Google Drive/Didattica/LUISS/LABGP3 - INTELLIGENZA ARTIFICIALE - ARTIFICIAL INTELLIGENCE/0 Introduzione a Python/animals/elephant/014_d94f4908.jpg'),\n",
       " WindowsPath('c:/Users/lcapitanio/Google Drive/Didattica/LUISS/LABGP3 - INTELLIGENZA ARTIFICIALE - ARTIFICIAL INTELLIGENCE/0 Introduzione a Python/animals/elephant/015_1590aee5.jpg'),\n",
       " WindowsPath('c:/Users/lcapitanio/Google Drive/Didattica/LUISS/LABGP3 - INTELLIGENZA ARTIFICIALE - ARTIFICIAL INTELLIGENCE/0 Introduzione a Python/animals/elephant/016_356ceed4.jpg'),\n",
       " WindowsPath('c:/Users/lcapitanio/Google Drive/Didattica/LUISS/LABGP3 - INTELLIGENZA ARTIFICIALE - ARTIFICIAL INTELLIGENCE/0 Introduzione a Python/animals/elephant/017_8dc42f09.jpg'),\n",
       " WindowsPath('c:/Users/lcapitanio/Google Drive/Didattica/LUISS/LABGP3 - INTELLIGENZA ARTIFICIALE - ARTIFICIAL INTELLIGENCE/0 Introduzione a Python/animals/elephant/018_193b7cc4.jpg'),\n",
       " WindowsPath('c:/Users/lcapitanio/Google Drive/Didattica/LUISS/LABGP3 - INTELLIGENZA ARTIFICIALE - ARTIFICIAL INTELLIGENCE/0 Introduzione a Python/animals/elephant/019_66178889.jpg'),\n",
       " WindowsPath('c:/Users/lcapitanio/Google Drive/Didattica/LUISS/LABGP3 - INTELLIGENZA ARTIFICIALE - ARTIFICIAL INTELLIGENCE/0 Introduzione a Python/animals/elephant/020_8c723325.jpg'),\n",
       " WindowsPath('c:/Users/lcapitanio/Google Drive/Didattica/LUISS/LABGP3 - INTELLIGENZA ARTIFICIALE - ARTIFICIAL INTELLIGENCE/0 Introduzione a Python/animals/elephant/021_06cc1763.jpg'),\n",
       " WindowsPath('c:/Users/lcapitanio/Google Drive/Didattica/LUISS/LABGP3 - INTELLIGENZA ARTIFICIALE - ARTIFICIAL INTELLIGENCE/0 Introduzione a Python/animals/elephant/022_854609ec.jpg'),\n",
       " WindowsPath('c:/Users/lcapitanio/Google Drive/Didattica/LUISS/LABGP3 - INTELLIGENZA ARTIFICIALE - ARTIFICIAL INTELLIGENCE/0 Introduzione a Python/animals/elephant/023_6a440def.jpg'),\n",
       " WindowsPath('c:/Users/lcapitanio/Google Drive/Didattica/LUISS/LABGP3 - INTELLIGENZA ARTIFICIALE - ARTIFICIAL INTELLIGENCE/0 Introduzione a Python/animals/elephant/024_943ecf50.jpg'),\n",
       " WindowsPath('c:/Users/lcapitanio/Google Drive/Didattica/LUISS/LABGP3 - INTELLIGENZA ARTIFICIALE - ARTIFICIAL INTELLIGENCE/0 Introduzione a Python/animals/elephant/025_616e8058.jpg'),\n",
       " WindowsPath('c:/Users/lcapitanio/Google Drive/Didattica/LUISS/LABGP3 - INTELLIGENZA ARTIFICIALE - ARTIFICIAL INTELLIGENCE/0 Introduzione a Python/animals/elephant/026_2721a781.jpg'),\n",
       " WindowsPath('c:/Users/lcapitanio/Google Drive/Didattica/LUISS/LABGP3 - INTELLIGENZA ARTIFICIALE - ARTIFICIAL INTELLIGENCE/0 Introduzione a Python/animals/elephant/027_9433f0ad.jpg'),\n",
       " WindowsPath('c:/Users/lcapitanio/Google Drive/Didattica/LUISS/LABGP3 - INTELLIGENZA ARTIFICIALE - ARTIFICIAL INTELLIGENCE/0 Introduzione a Python/animals/elephant/028_edf8b732.jpg'),\n",
       " WindowsPath('c:/Users/lcapitanio/Google Drive/Didattica/LUISS/LABGP3 - INTELLIGENZA ARTIFICIALE - ARTIFICIAL INTELLIGENCE/0 Introduzione a Python/animals/elephant/029_a6144f72.jpg'),\n",
       " WindowsPath('c:/Users/lcapitanio/Google Drive/Didattica/LUISS/LABGP3 - INTELLIGENZA ARTIFICIALE - ARTIFICIAL INTELLIGENCE/0 Introduzione a Python/animals/elephant/030_b1083f7d.jpg'),\n",
       " WindowsPath('c:/Users/lcapitanio/Google Drive/Didattica/LUISS/LABGP3 - INTELLIGENZA ARTIFICIALE - ARTIFICIAL INTELLIGENCE/0 Introduzione a Python/animals/elephant/031_1b626f5f.jpg'),\n",
       " WindowsPath('c:/Users/lcapitanio/Google Drive/Didattica/LUISS/LABGP3 - INTELLIGENZA ARTIFICIALE - ARTIFICIAL INTELLIGENCE/0 Introduzione a Python/animals/elephant/032_5b51b2be.jpg'),\n",
       " WindowsPath('c:/Users/lcapitanio/Google Drive/Didattica/LUISS/LABGP3 - INTELLIGENZA ARTIFICIALE - ARTIFICIAL INTELLIGENCE/0 Introduzione a Python/animals/elephant/033_ff476a39.jpg'),\n",
       " WindowsPath('c:/Users/lcapitanio/Google Drive/Didattica/LUISS/LABGP3 - INTELLIGENZA ARTIFICIALE - ARTIFICIAL INTELLIGENCE/0 Introduzione a Python/animals/elephant/034_736548c5.jpg'),\n",
       " WindowsPath('c:/Users/lcapitanio/Google Drive/Didattica/LUISS/LABGP3 - INTELLIGENZA ARTIFICIALE - ARTIFICIAL INTELLIGENCE/0 Introduzione a Python/animals/elephant/035_2ed8f931.jpg'),\n",
       " WindowsPath('c:/Users/lcapitanio/Google Drive/Didattica/LUISS/LABGP3 - INTELLIGENZA ARTIFICIALE - ARTIFICIAL INTELLIGENCE/0 Introduzione a Python/animals/elephant/036_11023e2a.jpg'),\n",
       " WindowsPath('c:/Users/lcapitanio/Google Drive/Didattica/LUISS/LABGP3 - INTELLIGENZA ARTIFICIALE - ARTIFICIAL INTELLIGENCE/0 Introduzione a Python/animals/elephant/037_e4e02a5d.jpg'),\n",
       " WindowsPath('c:/Users/lcapitanio/Google Drive/Didattica/LUISS/LABGP3 - INTELLIGENZA ARTIFICIALE - ARTIFICIAL INTELLIGENCE/0 Introduzione a Python/animals/elephant/038_b811eaf2.jpg'),\n",
       " WindowsPath('c:/Users/lcapitanio/Google Drive/Didattica/LUISS/LABGP3 - INTELLIGENZA ARTIFICIALE - ARTIFICIAL INTELLIGENCE/0 Introduzione a Python/animals/elephant/039_ceedd56b.jpg'),\n",
       " WindowsPath('c:/Users/lcapitanio/Google Drive/Didattica/LUISS/LABGP3 - INTELLIGENZA ARTIFICIALE - ARTIFICIAL INTELLIGENCE/0 Introduzione a Python/animals/elephant/040_5a793799.jpg'),\n",
       " WindowsPath('c:/Users/lcapitanio/Google Drive/Didattica/LUISS/LABGP3 - INTELLIGENZA ARTIFICIALE - ARTIFICIAL INTELLIGENCE/0 Introduzione a Python/animals/elephant/041_a048d70b.jpg'),\n",
       " WindowsPath('c:/Users/lcapitanio/Google Drive/Didattica/LUISS/LABGP3 - INTELLIGENZA ARTIFICIALE - ARTIFICIAL INTELLIGENCE/0 Introduzione a Python/animals/elephant/042_12306b9f.jpg'),\n",
       " WindowsPath('c:/Users/lcapitanio/Google Drive/Didattica/LUISS/LABGP3 - INTELLIGENZA ARTIFICIALE - ARTIFICIAL INTELLIGENCE/0 Introduzione a Python/animals/elephant/043_dd3f2660.jpg'),\n",
       " WindowsPath('c:/Users/lcapitanio/Google Drive/Didattica/LUISS/LABGP3 - INTELLIGENZA ARTIFICIALE - ARTIFICIAL INTELLIGENCE/0 Introduzione a Python/animals/elephant/044_16007fdb.jpg'),\n",
       " WindowsPath('c:/Users/lcapitanio/Google Drive/Didattica/LUISS/LABGP3 - INTELLIGENZA ARTIFICIALE - ARTIFICIAL INTELLIGENCE/0 Introduzione a Python/animals/elephant/045_8193692d.jpg'),\n",
       " WindowsPath('c:/Users/lcapitanio/Google Drive/Didattica/LUISS/LABGP3 - INTELLIGENZA ARTIFICIALE - ARTIFICIAL INTELLIGENCE/0 Introduzione a Python/animals/elephant/046_ced590da.jpg'),\n",
       " WindowsPath('c:/Users/lcapitanio/Google Drive/Didattica/LUISS/LABGP3 - INTELLIGENZA ARTIFICIALE - ARTIFICIAL INTELLIGENCE/0 Introduzione a Python/animals/elephant/047_859bc249.jpg'),\n",
       " WindowsPath('c:/Users/lcapitanio/Google Drive/Didattica/LUISS/LABGP3 - INTELLIGENZA ARTIFICIALE - ARTIFICIAL INTELLIGENCE/0 Introduzione a Python/animals/elephant/048_35472d8f.jpg'),\n",
       " WindowsPath('c:/Users/lcapitanio/Google Drive/Didattica/LUISS/LABGP3 - INTELLIGENZA ARTIFICIALE - ARTIFICIAL INTELLIGENCE/0 Introduzione a Python/animals/elephant/049_ea64649f.jpg'),\n",
       " WindowsPath('c:/Users/lcapitanio/Google Drive/Didattica/LUISS/LABGP3 - INTELLIGENZA ARTIFICIALE - ARTIFICIAL INTELLIGENCE/0 Introduzione a Python/animals/elephant/050_a58d255d.jpg')]"
      ]
     },
     "execution_count": 12,
     "metadata": {},
     "output_type": "execute_result"
    }
   ],
   "source": [
    "animals=['horse','elephant']\n",
    "path = Path().cwd()/\"animals\"# crea la cartella animals nella cartella corrente e sposta li la cartella corrente\n",
    "duckduckgo_search(path,\"horse\",\"horses\",max_results=50) # cerca e scarica 50 immagini di cavalli e li salva in path/horse\n",
    "duckduckgo_search(path,\"elephant\",\"elephants\",max_results=50) # cerca e scarica 50 immagini di elefanti e li salva in path/elephant\n"
   ]
  },
  {
   "cell_type": "code",
   "execution_count": 24,
   "metadata": {},
   "outputs": [
    {
     "data": {
      "application/vnd.jupyter.widget-view+json": {
       "model_id": "1ae7b06605d14d4dbb6451052bf1ac5b",
       "version_major": 2,
       "version_minor": 0
      },
      "text/plain": [
       "HBox(children=(Button(description='|<<', layout=Layout(width='60px'), style=ButtonStyle()), Button(description…"
      ]
     },
     "metadata": {},
     "output_type": "display_data"
    },
    {
     "data": {
      "application/vnd.jupyter.widget-view+json": {
       "model_id": "683a538f57504c63b6e3d3d7f42d3167",
       "version_major": 2,
       "version_minor": 0
      },
      "text/plain": [
       "HTML(value='<h2>No images left to display in this folder.</h2>', layout=Layout(visibility='hidden'))"
      ]
     },
     "metadata": {},
     "output_type": "display_data"
    },
    {
     "data": {
      "application/vnd.jupyter.widget-view+json": {
       "model_id": "4f9d0b4a923e481a8674fb503f05907d",
       "version_major": 2,
       "version_minor": 0
      },
      "text/plain": [
       "GridBox(children=(VBox(children=(Image(value=b'', layout=\"Layout(width='150px')\"), Button(description='Delete'…"
      ]
     },
     "metadata": {},
     "output_type": "display_data"
    },
    {
     "ename": "FileNotFoundError",
     "evalue": "[Errno 2] No such file or directory: 'c:\\\\Users\\\\lcapitanio\\\\Google Drive\\\\Didattica\\\\LUISS\\\\LABGP3 - INTELLIGENZA ARTIFICIALE - ARTIFICIAL INTELLIGENCE\\\\0 Introduzione a Python\\\\animals\\\\elephant\\\\001_cc71c764.jpg'",
     "output_type": "error",
     "traceback": [
      "\u001b[1;31m---------------------------------------------------------------------------\u001b[0m",
      "\u001b[1;31mFileNotFoundError\u001b[0m                         Traceback (most recent call last)",
      "\u001b[1;32mC:\\Users\\LCAPIT~1\\AppData\\Local\\Temp/ipykernel_17228/149852613.py\u001b[0m in \u001b[0;36m<module>\u001b[1;34m\u001b[0m\n\u001b[1;32m----> 1\u001b[1;33m \u001b[0mdisplay_image_cleaner\u001b[0m\u001b[1;33m(\u001b[0m\u001b[0mpath\u001b[0m\u001b[1;33m)\u001b[0m\u001b[1;33m\u001b[0m\u001b[1;33m\u001b[0m\u001b[0m\n\u001b[0m\u001b[0;32m      2\u001b[0m \u001b[1;33m\u001b[0m\u001b[0m\n",
      "\u001b[1;32m~\\AppData\\Roaming\\Python\\Python39\\site-packages\\jmd_imagescraper\\imagecleaner.py\u001b[0m in \u001b[0;36mdisplay_image_cleaner\u001b[1;34m(path)\u001b[0m\n\u001b[0;32m    187\u001b[0m     \u001b[0micln_create_widgets\u001b[0m\u001b[1;33m(\u001b[0m\u001b[0mICLN_BATCH_SZ\u001b[0m\u001b[1;33m)\u001b[0m\u001b[1;33m\u001b[0m\u001b[1;33m\u001b[0m\u001b[0m\n\u001b[0;32m    188\u001b[0m     \u001b[0m_\u001b[0m\u001b[1;33m,\u001b[0m\u001b[0m_\u001b[0m\u001b[1;33m,\u001b[0m\u001b[0m_\u001b[0m\u001b[1;33m,\u001b[0m\u001b[0m_\u001b[0m\u001b[1;33m,\u001b[0m\u001b[0m_\u001b[0m\u001b[1;33m,\u001b[0m\u001b[0mddlFolder\u001b[0m\u001b[1;33m,\u001b[0m\u001b[0m_\u001b[0m \u001b[1;33m=\u001b[0m \u001b[0micln_pager\u001b[0m\u001b[1;33m.\u001b[0m\u001b[0mchildren\u001b[0m\u001b[1;33m\u001b[0m\u001b[1;33m\u001b[0m\u001b[0m\n\u001b[1;32m--> 189\u001b[1;33m     \u001b[0micln_render_batch\u001b[0m\u001b[1;33m(\u001b[0m\u001b[0mddlFolder\u001b[0m\u001b[1;33m.\u001b[0m\u001b[0mvalue\u001b[0m\u001b[1;33m,\u001b[0m \u001b[1;36m0\u001b[0m\u001b[1;33m)\u001b[0m\u001b[1;33m\u001b[0m\u001b[1;33m\u001b[0m\u001b[0m\n\u001b[0m",
      "\u001b[1;32m~\\AppData\\Roaming\\Python\\Python39\\site-packages\\jmd_imagescraper\\imagecleaner.py\u001b[0m in \u001b[0;36micln_render_batch\u001b[1;34m(folder, batch, force_reload)\u001b[0m\n\u001b[0;32m    162\u001b[0m       \u001b[0mbtn\u001b[0m\u001b[1;33m.\u001b[0m\u001b[0mdisabled\u001b[0m \u001b[1;33m=\u001b[0m \u001b[1;32mTrue\u001b[0m\u001b[1;33m\u001b[0m\u001b[1;33m\u001b[0m\u001b[0m\n\u001b[0;32m    163\u001b[0m     \u001b[1;32melse\u001b[0m\u001b[1;33m:\u001b[0m\u001b[1;33m\u001b[0m\u001b[1;33m\u001b[0m\u001b[0m\n\u001b[1;32m--> 164\u001b[1;33m       \u001b[0mimg\u001b[0m\u001b[1;33m.\u001b[0m\u001b[0mvalue\u001b[0m \u001b[1;33m=\u001b[0m \u001b[0mopen\u001b[0m\u001b[1;33m(\u001b[0m\u001b[0mfp\u001b[0m\u001b[1;33m,\u001b[0m \u001b[1;34m\"rb\"\u001b[0m\u001b[1;33m)\u001b[0m\u001b[1;33m.\u001b[0m\u001b[0mread\u001b[0m\u001b[1;33m(\u001b[0m\u001b[1;33m)\u001b[0m\u001b[1;33m\u001b[0m\u001b[1;33m\u001b[0m\u001b[0m\n\u001b[0m\u001b[0;32m    165\u001b[0m       \u001b[0mbtn\u001b[0m\u001b[1;33m.\u001b[0m\u001b[0mtag\u001b[0m \u001b[1;33m=\u001b[0m \u001b[1;33m(\u001b[0m\u001b[0mfp\u001b[0m\u001b[1;33m,\u001b[0m \u001b[0mimg\u001b[0m\u001b[1;33m,\u001b[0m \u001b[0mbatch\u001b[0m\u001b[1;33m,\u001b[0m \u001b[0mi\u001b[0m\u001b[1;33m)\u001b[0m\u001b[1;33m\u001b[0m\u001b[1;33m\u001b[0m\u001b[0m\n\u001b[0;32m    166\u001b[0m       \u001b[0mbtn\u001b[0m\u001b[1;33m.\u001b[0m\u001b[0mdisabled\u001b[0m \u001b[1;33m=\u001b[0m \u001b[1;32mFalse\u001b[0m\u001b[1;33m\u001b[0m\u001b[1;33m\u001b[0m\u001b[0m\n",
      "\u001b[1;31mFileNotFoundError\u001b[0m: [Errno 2] No such file or directory: 'c:\\\\Users\\\\lcapitanio\\\\Google Drive\\\\Didattica\\\\LUISS\\\\LABGP3 - INTELLIGENZA ARTIFICIALE - ARTIFICIAL INTELLIGENCE\\\\0 Introduzione a Python\\\\animals\\\\elephant\\\\001_cc71c764.jpg'"
     ]
    }
   ],
   "source": [
    "display_image_cleaner(path)\n",
    "\n"
   ]
  }
 ],
 "metadata": {
  "kernelspec": {
   "display_name": "Python 3.9.5 64-bit",
   "language": "python",
   "name": "python3"
  },
  "language_info": {
   "codemirror_mode": {
    "name": "ipython",
    "version": 3
   },
   "file_extension": ".py",
   "mimetype": "text/x-python",
   "name": "python",
   "nbconvert_exporter": "python",
   "pygments_lexer": "ipython3",
   "version": "3.9.5"
  },
  "orig_nbformat": 4,
  "vscode": {
   "interpreter": {
    "hash": "81794d4967e6c3204c66dcd87b604927b115b27c00565d3d43f05ba2f3a2cb0d"
   }
  }
 },
 "nbformat": 4,
 "nbformat_minor": 2
}
